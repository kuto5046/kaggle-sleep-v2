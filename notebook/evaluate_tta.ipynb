{
 "cells": [
  {
   "cell_type": "code",
   "execution_count": 2,
   "metadata": {},
   "outputs": [
    {
     "data": {
      "text/html": [
       "\n",
       "                <script type=\"application/javascript\" id=\"jupyter_black\">\n",
       "                (function() {\n",
       "                    if (window.IPython === undefined) {\n",
       "                        return\n",
       "                    }\n",
       "                    var msg = \"WARNING: it looks like you might have loaded \" +\n",
       "                        \"jupyter_black in a non-lab notebook with \" +\n",
       "                        \"`is_lab=True`. Please double check, and if \" +\n",
       "                        \"loading with `%load_ext` please review the README!\"\n",
       "                    console.log(msg)\n",
       "                    alert(msg)\n",
       "                })()\n",
       "                </script>\n",
       "                "
      ],
      "text/plain": [
       "<IPython.core.display.HTML object>"
      ]
     },
     "metadata": {},
     "output_type": "display_data"
    }
   ],
   "source": [
    "from pathlib import Path\n",
    "\n",
    "import jupyter_black\n",
    "import numpy as np\n",
    "import pandas as pd\n",
    "import polars as pl\n",
    "import seaborn as sns\n",
    "from hydra import compose\n",
    "from hydra import initialize\n",
    "from hydra.core.global_hydra import GlobalHydra\n",
    "\n",
    "from src.utils.metrics import event_detection_ap\n",
    "from src.utils.post_process import post_process_for_seg\n",
    "\n",
    "jupyter_black.load()\n",
    "# plt.style.use(\"ggplot\")\n",
    "sns.set()\n",
    "\n",
    "%load_ext autoreload\n",
    "%autoreload 2\n",
    "\n",
    "\n",
    "def load_config(result_dir: Path):\n",
    "    # clear previous initialization\n",
    "    GlobalHydra.instance().clear()\n",
    "\n",
    "    # initialize hydra\n",
    "    config_path = result_dir / \".hydra\"\n",
    "    initialize(config_path=config_path.as_posix())\n",
    "    # load the config\n",
    "    cfg = compose(config_name=\"config\")\n",
    "\n",
    "    return cfg"
   ]
  },
  {
   "cell_type": "code",
   "execution_count": 4,
   "metadata": {},
   "outputs": [
    {
     "name": "stderr",
     "output_type": "stream",
     "text": [
      "/tmp/ipykernel_2059952/212143407.py:31: UserWarning: \n",
      "The version_base parameter is not specified.\n",
      "Please specify a compatability version level, or None.\n",
      "Will assume defaults for version 1.1\n",
      "  initialize(config_path=config_path.as_posix())\n",
      "/tmp/ipykernel_2059952/212143407.py:31: UserWarning: \n",
      "The version_base parameter is not specified.\n",
      "Please specify a compatability version level, or None.\n",
      "Will assume defaults for version 1.1\n",
      "  initialize(config_path=config_path.as_posix())\n"
     ]
    },
    {
     "data": {
      "text/plain": [
       "0.8234303978717978"
      ]
     },
     "execution_count": 4,
     "metadata": {},
     "output_type": "execute_result"
    }
   ],
   "source": [
    "EXP_NAME = \"exp126\"\n",
    "RUN_NAMES = [\"run0\", \"run1\", \"run2\", \"run3\", \"run4\"]\n",
    "all_preds = []\n",
    "for run_name in RUN_NAMES:\n",
    "    RESULT_DIR = Path(\"../output/inference\") / EXP_NAME / run_name\n",
    "    cfg = load_config(RESULT_DIR)\n",
    "    preds = np.load(RESULT_DIR / \"preds.npy\")\n",
    "    all_preds.append(preds)\n",
    "\n",
    "all_keys = np.load(RESULT_DIR / \"keys.npy\")\n",
    "all_preds = np.concatenate(all_preds)[:, :, 1:]\n",
    "gt_df = pd.read_csv(Path(cfg.dir.data_dir) / \"train_events.csv\").dropna().reset_index(drop=True)\n",
    "\n",
    "pred_df1: pl.DataFrame = post_process_for_seg(\n",
    "    all_keys,\n",
    "    all_preds,\n",
    "    score_th=0.001,\n",
    "    distance=70,\n",
    "    low_pass_filter_hour=5,\n",
    ")\n",
    "score1 = event_detection_ap(\n",
    "    gt_df.query(f'series_id in {pred_df1[\"series_id\"].unique().to_list()}'), pred_df1.to_pandas()\n",
    ")\n",
    "score1"
   ]
  },
  {
   "cell_type": "code",
   "execution_count": 6,
   "metadata": {},
   "outputs": [
    {
     "name": "stderr",
     "output_type": "stream",
     "text": [
      "/tmp/ipykernel_2059952/212143407.py:31: UserWarning: \n",
      "The version_base parameter is not specified.\n",
      "Please specify a compatability version level, or None.\n",
      "Will assume defaults for version 1.1\n",
      "  initialize(config_path=config_path.as_posix())\n"
     ]
    },
    {
     "data": {
      "text/plain": [
       "0.8378295950621095"
      ]
     },
     "execution_count": 6,
     "metadata": {},
     "output_type": "execute_result"
    }
   ],
   "source": [
    "EXP_NAME = \"exp146\"\n",
    "RUN_NAMES = [\"run0\", \"run1\", \"run2\", \"run3\", \"run4\"]\n",
    "all_preds = []\n",
    "for run_name in RUN_NAMES:\n",
    "    RESULT_DIR = Path(\"../output/inference\") / EXP_NAME / run_name\n",
    "    cfg = load_config(RESULT_DIR)\n",
    "    preds = np.load(RESULT_DIR / \"preds.npy\")\n",
    "    all_preds.append(preds)\n",
    "\n",
    "all_keys = np.load(RESULT_DIR / \"keys.npy\")\n",
    "all_preds = np.concatenate(all_preds)[:, :, 1:]\n",
    "gt_df = pd.read_csv(Path(cfg.dir.data_dir) / \"train_events.csv\").dropna().reset_index(drop=True)\n",
    "\n",
    "pred_df1: pl.DataFrame = post_process_for_seg(\n",
    "    all_keys,\n",
    "    all_preds,\n",
    "    score_th=0.001,\n",
    "    distance=70,\n",
    "    low_pass_filter_hour=5,\n",
    ")\n",
    "score1 = event_detection_ap(\n",
    "    gt_df.query(f'series_id in {pred_df1[\"series_id\"].unique().to_list()}'), pred_df1.to_pandas()\n",
    ")\n",
    "score1"
   ]
  },
  {
   "cell_type": "code",
   "execution_count": 5,
   "metadata": {},
   "outputs": [
    {
     "name": "stderr",
     "output_type": "stream",
     "text": [
      "/tmp/ipykernel_2059952/212143407.py:31: UserWarning: \n",
      "The version_base parameter is not specified.\n",
      "Please specify a compatability version level, or None.\n",
      "Will assume defaults for version 1.1\n",
      "  initialize(config_path=config_path.as_posix())\n"
     ]
    },
    {
     "data": {
      "text/plain": [
       "0.8378295950621095"
      ]
     },
     "execution_count": 5,
     "metadata": {},
     "output_type": "execute_result"
    }
   ],
   "source": [
    "EXP_NAME = \"exp156\"\n",
    "RUN_NAMES = [\"run0\", \"run1\", \"run2\", \"run3\", \"run4\"]\n",
    "all_preds = []\n",
    "for run_name in RUN_NAMES:\n",
    "    RESULT_DIR = Path(\"../output/inference\") / EXP_NAME / run_name\n",
    "    cfg = load_config(RESULT_DIR)\n",
    "    preds = np.load(RESULT_DIR / \"preds.npy\")\n",
    "    all_preds.append(preds)\n",
    "\n",
    "all_keys = np.load(RESULT_DIR / \"keys.npy\")\n",
    "all_preds = np.concatenate(all_preds)[:, :, 1:]\n",
    "gt_df = pd.read_csv(Path(cfg.dir.data_dir) / \"train_events.csv\").dropna().reset_index(drop=True)\n",
    "\n",
    "pred_df1: pl.DataFrame = post_process_for_seg(\n",
    "    all_keys,\n",
    "    all_preds,\n",
    "    score_th=0.001,\n",
    "    distance=70,\n",
    "    low_pass_filter_hour=5,\n",
    ")\n",
    "score1 = event_detection_ap(\n",
    "    gt_df.query(f'series_id in {pred_df1[\"series_id\"].unique().to_list()}'), pred_df1.to_pandas()\n",
    ")\n",
    "score1"
   ]
  },
  {
   "cell_type": "markdown",
   "metadata": {},
   "source": [
    "1/8 0.7997024418326026\n",
    "1/4 0.7997961723440672\n",
    "1/16 0.7988677649"
   ]
  },
  {
   "cell_type": "code",
   "execution_count": null,
   "metadata": {},
   "outputs": [],
   "source": []
  }
 ],
 "metadata": {
  "kernelspec": {
   "display_name": ".venv",
   "language": "python",
   "name": "python3"
  },
  "language_info": {
   "codemirror_mode": {
    "name": "ipython",
    "version": 3
   },
   "file_extension": ".py",
   "mimetype": "text/x-python",
   "name": "python",
   "nbconvert_exporter": "python",
   "pygments_lexer": "ipython3",
   "version": "3.10.11"
  },
  "orig_nbformat": 4
 },
 "nbformat": 4,
 "nbformat_minor": 2
}
