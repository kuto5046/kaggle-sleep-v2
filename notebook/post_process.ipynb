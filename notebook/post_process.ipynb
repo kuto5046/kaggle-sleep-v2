{
 "cells": [
  {
   "cell_type": "code",
   "execution_count": 1,
   "metadata": {},
   "outputs": [
    {
     "data": {
      "text/html": [
       "\n",
       "                <script type=\"application/javascript\" id=\"jupyter_black\">\n",
       "                (function() {\n",
       "                    if (window.IPython === undefined) {\n",
       "                        return\n",
       "                    }\n",
       "                    var msg = \"WARNING: it looks like you might have loaded \" +\n",
       "                        \"jupyter_black in a non-lab notebook with \" +\n",
       "                        \"`is_lab=True`. Please double check, and if \" +\n",
       "                        \"loading with `%load_ext` please review the README!\"\n",
       "                    console.log(msg)\n",
       "                    alert(msg)\n",
       "                })()\n",
       "                </script>\n",
       "                "
      ],
      "text/plain": [
       "<IPython.core.display.HTML object>"
      ]
     },
     "metadata": {},
     "output_type": "display_data"
    }
   ],
   "source": [
    "from pathlib import Path\n",
    "\n",
    "import jupyter_black\n",
    "import matplotlib.pyplot as plt\n",
    "import numpy as np\n",
    "import pandas as pd\n",
    "import polars as pl\n",
    "import seaborn as sns\n",
    "from hydra import compose\n",
    "from hydra import initialize\n",
    "from hydra.core.global_hydra import GlobalHydra\n",
    "\n",
    "from src.utils.metrics import event_detection_ap\n",
    "from src.utils.post_process import post_process_for_seg\n",
    "\n",
    "jupyter_black.load()\n",
    "# plt.style.use(\"ggplot\")\n",
    "sns.set()\n",
    "\n",
    "%load_ext autoreload\n",
    "%autoreload 2\n",
    "\n",
    "\n",
    "def load_config(result_dir: Path):\n",
    "    # clear previous initialization\n",
    "    GlobalHydra.instance().clear()\n",
    "\n",
    "    # initialize hydra\n",
    "    config_path = result_dir / \".hydra\"\n",
    "    initialize(config_path=config_path.as_posix())\n",
    "    # load the config\n",
    "    cfg = compose(config_name=\"config\")\n",
    "\n",
    "    return cfg"
   ]
  },
  {
   "cell_type": "code",
   "execution_count": 2,
   "metadata": {},
   "outputs": [
    {
     "name": "stderr",
     "output_type": "stream",
     "text": [
      "/tmp/ipykernel_2060142/122198152.py:32: UserWarning: \n",
      "The version_base parameter is not specified.\n",
      "Please specify a compatability version level, or None.\n",
      "Will assume defaults for version 1.1\n",
      "  initialize(config_path=config_path.as_posix())\n",
      "/tmp/ipykernel_2060142/122198152.py:32: UserWarning: \n",
      "The version_base parameter is not specified.\n",
      "Please specify a compatability version level, or None.\n",
      "Will assume defaults for version 1.1\n",
      "  initialize(config_path=config_path.as_posix())\n"
     ]
    }
   ],
   "source": [
    "EXP_NAME = \"exp125\"\n",
    "RUN_NAMES = [\"run0\", \"run1\", \"run2\", \"run3\", \"run4\"]\n",
    "all_preds = []\n",
    "all_keys = []\n",
    "all_labels = []\n",
    "for run_name in RUN_NAMES:\n",
    "    RESULT_DIR = Path(\"../output/train\") / EXP_NAME / run_name\n",
    "    cfg = load_config(RESULT_DIR)\n",
    "    preds = np.load(RESULT_DIR / \"preds.npy\")\n",
    "    labels = np.load(RESULT_DIR / \"labels.npy\")\n",
    "    keys = np.load(RESULT_DIR / \"keys.npy\")\n",
    "    all_preds.append(preds)\n",
    "    all_keys.append(keys)\n",
    "    all_labels.append(labels)\n",
    "\n",
    "all_preds = np.concatenate(all_preds)\n",
    "all_keys = np.concatenate(all_keys)\n",
    "all_labels = np.concatenate(all_labels)\n",
    "gt_df = pd.read_csv(Path(cfg.dir.data_dir) / \"train_events.csv\").dropna().reset_index(drop=True)"
   ]
  },
  {
   "cell_type": "code",
   "execution_count": 3,
   "metadata": {},
   "outputs": [
    {
     "data": {
      "text/plain": [
       "Text(0, 0.5, 'discount rate')"
      ]
     },
     "execution_count": 3,
     "metadata": {},
     "output_type": "execute_result"
    },
    {
     "data": {
      "image/png": "[encoded data removed]",
      "text/plain": [
       "<Figure size 640x480 with 1 Axes>"
      ]
     },
     "metadata": {},
     "output_type": "display_data"
    }
   ],
   "source": [
    "max_steps = 1000000\n",
    "step_rate = np.arange(0, max_steps) / max_steps\n",
    "k = 0.5\n",
    "discount_rate = 1 - (1 - k) * step_rate**100\n",
    "plt.plot(step_rate, discount_rate)\n",
    "plt.ylim(0, 1.1)\n",
    "plt.xlabel(\"step rate\")\n",
    "plt.ylabel(\"discount rate\")"
   ]
  },
  {
   "cell_type": "code",
   "execution_count": 4,
   "metadata": {},
   "outputs": [],
   "source": [
    "cfg.post_process.score_th = 0.001\n",
    "cfg.post_process.distance = 70\n",
    "cfg.post_process.low_pass_filter_hour = 5"
   ]
  },
  {
   "cell_type": "code",
   "execution_count": 22,
   "metadata": {},
   "outputs": [
    {
     "name": "stdout",
     "output_type": "stream",
     "text": [
      "score_k:0.0 score1:0.78763\n",
      "score_k:0.2 score1:0.78754\n",
      "score_k:0.4 score1:0.78744\n",
      "score_k:0.6 score1:0.78726\n"
     ]
    }
   ],
   "source": [
    "for score_k in [0.0, 0.2, 0.4, 0.6]:\n",
    "    pred_df1: pl.DataFrame = post_process_for_seg(\n",
    "        all_keys,\n",
    "        all_preds[:, :, [1, 2]],\n",
    "        score_th=cfg.post_process.score_th,\n",
    "        distance=cfg.post_process.distance,\n",
    "        low_pass_filter_hour=cfg.post_process.low_pass_filter_hour,\n",
    "        score_decay_k=score_k,\n",
    "        score_decay_m=100,\n",
    "    )\n",
    "    score1 = event_detection_ap(\n",
    "        gt_df.query(f'series_id in {pred_df1[\"series_id\"].unique().to_list()}'),\n",
    "        pred_df1.to_pandas(),\n",
    "    )\n",
    "    print(f\"score_k:{score_k} score1:{score1:.5f}\")"
   ]
  },
  {
   "cell_type": "markdown",
   "metadata": {},
   "source": [
    "## 改善したいケース例"
   ]
  },
  {
   "cell_type": "code",
   "execution_count": 5,
   "metadata": {},
   "outputs": [],
   "source": [
    "def plot_random_sample(keys, preds, labels, unique_series_ids, num_chunks=10):\n",
    "    # get series ids\n",
    "    series_ids = np.array(list(map(lambda x: x.split(\"_\")[0], keys)))\n",
    "    for i, random_series_id in enumerate(unique_series_ids):\n",
    "        # get random series\n",
    "        series_idx = np.where(series_ids == random_series_id)[0]\n",
    "        this_series_preds = preds[series_idx].reshape(-1, 3)\n",
    "        this_series_labels = labels[series_idx].reshape(-1, 3)\n",
    "\n",
    "        # scoring\n",
    "        pred = this_series_preds[:, [1, 2]]\n",
    "        pred_df: pl.DataFrame = post_process_for_seg(\n",
    "            [random_series_id] * len(pred),\n",
    "            pred,\n",
    "            score_th=0.001,\n",
    "            distance=70,\n",
    "            low_pass_filter_hour=5,\n",
    "        )\n",
    "        _gt_df = gt_df.query(\"series_id==@random_series_id\")\n",
    "        if len(_gt_df) == 0:\n",
    "            score = 0.0\n",
    "        else:\n",
    "            score = event_detection_ap(_gt_df, pred_df.to_pandas())\n",
    "\n",
    "        # split series\n",
    "        this_series_preds = np.split(this_series_preds, num_chunks)\n",
    "        this_series_labels = np.split(this_series_labels, num_chunks)\n",
    "\n",
    "        fig, axs = plt.subplots(num_chunks, 1, figsize=(20, 4 * num_chunks))\n",
    "        if num_chunks == 1:\n",
    "            axs = [axs]\n",
    "\n",
    "        for j in range(num_chunks):\n",
    "            this_series_preds_chunk = this_series_preds[j]\n",
    "            this_series_labels_chunk = this_series_labels[j]\n",
    "\n",
    "            # get onset and wakeup idx\n",
    "            onset_idx = np.nonzero(this_series_labels_chunk[:, 1])[0]\n",
    "            wakeup_idx = np.nonzero(this_series_labels_chunk[:, 2])[0]\n",
    "\n",
    "            axs[j].plot(this_series_preds_chunk[:, 0], label=\"pred_sleep\")\n",
    "            axs[j].plot(this_series_preds_chunk[:, 1], label=\"pred_onset\")\n",
    "            axs[j].plot(this_series_preds_chunk[:, 2], label=\"pred_wakeup\")\n",
    "            axs[j].vlines(onset_idx, 0, 1, label=\"gt_onset\", linestyles=\"dashed\", color=\"C1\")\n",
    "            axs[j].vlines(wakeup_idx, 0, 1, label=\"gt_wakeup\", linestyles=\"dashed\", color=\"C2\")\n",
    "            axs[j].set_ylim(-0.1, 1.1)\n",
    "            axs[j].set_title(\n",
    "                f\"i={i} series_id: {random_series_id} chunk_id: {j} score: {score:.4f}\"\n",
    "            )\n",
    "            axs[j].legend(bbox_to_anchor=(1.05, 1), loc=\"upper left\", borderaxespad=0)\n",
    "\n",
    "    plt.tight_layout()"
   ]
  },
  {
   "cell_type": "code",
   "execution_count": 6,
   "metadata": {},
   "outputs": [
    {
     "data": {
      "image/png": "[encoded data removed]",
      "text/plain": [
       "<Figure size 2000x400 with 1 Axes>"
      ]
     },
     "metadata": {},
     "output_type": "display_data"
    }
   ],
   "source": [
    "np.random.seed(0)\n",
    "unique_series_ids = [\"854206f602d0\"]\n",
    "plot_random_sample(all_keys, all_preds, all_labels, unique_series_ids, num_chunks=1)"
   ]
  },
  {
   "cell_type": "code",
   "execution_count": 7,
   "metadata": {},
   "outputs": [],
   "source": [
    "def get_submission_df(\n",
    "    preds, keys, labels, target_series_id, score_th=0.001, distance=70, low_pass_filter_hour=5\n",
    "):\n",
    "    series_ids = np.array(list(map(lambda x: x.split(\"_\")[0], keys)))\n",
    "    series_idx = np.where(series_ids == target_series_id)[0]\n",
    "    this_series_preds = preds[series_idx].reshape(-1, 3)\n",
    "    pred_df = post_process_for_seg(\n",
    "        [target_series_id] * len(this_series_preds),\n",
    "        this_series_preds[:, [1, 2]],\n",
    "        score_th,\n",
    "        distance,\n",
    "        low_pass_filter_hour,\n",
    "    )\n",
    "    return pred_df"
   ]
  },
  {
   "cell_type": "code",
   "execution_count": 8,
   "metadata": {},
   "outputs": [
    {
     "data": {
      "text/plain": [
       "0.34484126984126984"
      ]
     },
     "execution_count": 8,
     "metadata": {},
     "output_type": "execute_result"
    }
   ],
   "source": [
    "pred_df = get_submission_df(all_preds, all_keys, all_labels, unique_series_ids[0])\n",
    "event_detection_ap(\n",
    "    gt_df.query(f'series_id in {list(pred_df[\"series_id\"].unique())}'),\n",
    "    pred_df.to_pandas(),\n",
    ")"
   ]
  },
  {
   "cell_type": "code",
   "execution_count": 9,
   "metadata": {},
   "outputs": [
    {
     "data": {
      "text/plain": [
       "0.35277777777777775"
      ]
     },
     "execution_count": 9,
     "metadata": {},
     "output_type": "execute_result"
    }
   ],
   "source": [
    "pred_df = get_submission_df(all_preds, all_keys, all_labels, unique_series_ids[0])\n",
    "_pred_df = pred_df.with_columns(\n",
    "    pl.when((70000 < pl.col(\"step\")) & (pl.col(\"step\") < 250000) | (pl.col(\"step\") > 300000))\n",
    "    .then(pl.lit(0))\n",
    "    .otherwise(pl.col(\"score\"))\n",
    "    .alias(\"score\")\n",
    ").to_pandas()\n",
    "\n",
    "event_detection_ap(\n",
    "    gt_df.query(f'series_id in {list(pred_df[\"series_id\"].unique())}'),\n",
    "    _pred_df,\n",
    ")"
   ]
  },
  {
   "cell_type": "markdown",
   "metadata": {},
   "source": [
    "## ペアで同等のscore以上のない場合はその予測は削除する\n",
    "\n",
    "手順\n",
    "- ピーク検出(0.1以上とかの大きいものを検出)\n",
    "- 同等のスコアでペアを作る\n",
    "    - 睡眠時間は3-12時間の範囲で\n",
    "    - スコアが0.1以上\n",
    "- ペアがないものは削除する"
   ]
  },
  {
   "cell_type": "code",
   "execution_count": 10,
   "metadata": {},
   "outputs": [
    {
     "data": {
      "text/html": [
       "<div><style>\n",
       ".dataframe > thead > tr > th,\n",
       ".dataframe > tbody > tr > td {\n",
       "  text-align: right;\n",
       "  white-space: pre-wrap;\n",
       "}\n",
       "</style>\n",
       "<small>shape: (14, 5)</small><table border=\"1\" class=\"dataframe\"><thead><tr><th>row_id</th><th>series_id</th><th>step</th><th>event</th><th>score</th></tr><tr><td>i64</td><td>str</td><td>i64</td><td>str</td><td>f64</td></tr></thead><tbody><tr><td>0</td><td>&quot;854206f602d0&quot;</td><td>5741</td><td>&quot;onset&quot;</td><td>0.626159</td></tr><tr><td>1</td><td>&quot;854206f602d0&quot;</td><td>13157</td><td>&quot;wakeup&quot;</td><td>0.768993</td></tr><tr><td>2</td><td>&quot;854206f602d0&quot;</td><td>57175</td><td>&quot;onset&quot;</td><td>0.242528</td></tr><tr><td>3</td><td>&quot;854206f602d0&quot;</td><td>58767</td><td>&quot;onset&quot;</td><td>0.158098</td></tr><tr><td>4</td><td>&quot;854206f602d0&quot;</td><td>65001</td><td>&quot;wakeup&quot;</td><td>0.169435</td></tr><tr><td>5</td><td>&quot;854206f602d0&quot;</td><td>65148</td><td>&quot;wakeup&quot;</td><td>0.541182</td></tr><tr><td>6</td><td>&quot;854206f602d0&quot;</td><td>74698</td><td>&quot;onset&quot;</td><td>0.165322</td></tr><tr><td>7</td><td>&quot;854206f602d0&quot;</td><td>160292</td><td>&quot;onset&quot;</td><td>0.175578</td></tr><tr><td>8</td><td>&quot;854206f602d0&quot;</td><td>195432</td><td>&quot;onset&quot;</td><td>0.209522</td></tr><tr><td>9</td><td>&quot;854206f602d0&quot;</td><td>265878</td><td>&quot;onset&quot;</td><td>0.101894</td></tr><tr><td>10</td><td>&quot;854206f602d0&quot;</td><td>266066</td><td>&quot;onset&quot;</td><td>0.668403</td></tr><tr><td>11</td><td>&quot;854206f602d0&quot;</td><td>272135</td><td>&quot;wakeup&quot;</td><td>0.618301</td></tr><tr><td>12</td><td>&quot;854206f602d0&quot;</td><td>282339</td><td>&quot;onset&quot;</td><td>0.103944</td></tr><tr><td>13</td><td>&quot;854206f602d0&quot;</td><td>316714</td><td>&quot;onset&quot;</td><td>0.103357</td></tr></tbody></table></div>"
      ],
      "text/plain": [
       "shape: (14, 5)\n",
       "┌────────┬──────────────┬────────┬────────┬──────────┐\n",
       "│ row_id ┆ series_id    ┆ step   ┆ event  ┆ score    │\n",
       "│ ---    ┆ ---          ┆ ---    ┆ ---    ┆ ---      │\n",
       "│ i64    ┆ str          ┆ i64    ┆ str    ┆ f64      │\n",
       "╞════════╪══════════════╪════════╪════════╪══════════╡\n",
       "│ 0      ┆ 854206f602d0 ┆ 5741   ┆ onset  ┆ 0.626159 │\n",
       "│ 1      ┆ 854206f602d0 ┆ 13157  ┆ wakeup ┆ 0.768993 │\n",
       "│ 2      ┆ 854206f602d0 ┆ 57175  ┆ onset  ┆ 0.242528 │\n",
       "│ 3      ┆ 854206f602d0 ┆ 58767  ┆ onset  ┆ 0.158098 │\n",
       "│ …      ┆ …            ┆ …      ┆ …      ┆ …        │\n",
       "│ 10     ┆ 854206f602d0 ┆ 266066 ┆ onset  ┆ 0.668403 │\n",
       "│ 11     ┆ 854206f602d0 ┆ 272135 ┆ wakeup ┆ 0.618301 │\n",
       "│ 12     ┆ 854206f602d0 ┆ 282339 ┆ onset  ┆ 0.103944 │\n",
       "│ 13     ┆ 854206f602d0 ┆ 316714 ┆ onset  ┆ 0.103357 │\n",
       "└────────┴──────────────┴────────┴────────┴──────────┘"
      ]
     },
     "execution_count": 10,
     "metadata": {},
     "output_type": "execute_result"
    }
   ],
   "source": [
    "high_score_pred_df = get_submission_df(\n",
    "    all_preds, all_keys, all_labels, unique_series_ids[0], score_th=0.1\n",
    ")\n",
    "high_score_pred_df"
   ]
  },
  {
   "cell_type": "code",
   "execution_count": 24,
   "metadata": {},
   "outputs": [],
   "source": [
    "def find_nonpaired_events(df: pl.DataFrame, min_hour: int = 3, max_hour: int = 12) -> pl.DataFrame:\n",
    "    # 3時間から12時間をステップに変換\n",
    "    min_sleep, max_sleep = min_hour * 60 * 60 // 5, max_hour * 60 * 60 // 5\n",
    "\n",
    "    # onsetイベントを持つ行を選択\n",
    "    onsets = (\n",
    "        df.filter(pl.col(\"event\") == \"onset\")\n",
    "        .select([\"series_id\", \"step\"])\n",
    "        .rename({\"step\": \"onset_step\"})\n",
    "    )\n",
    "    # wakeupイベントを持つ行を選択\n",
    "    wakeups = (\n",
    "        df.filter(pl.col(\"event\") == \"wakeup\")\n",
    "        .select([\"series_id\", \"step\"])\n",
    "        .rename({\"step\": \"wakeup_step\"})\n",
    "    )\n",
    "\n",
    "    # 全ての'onset'に対し、それに続く'wakeup'を検索\n",
    "    paired_events = (\n",
    "        onsets.join(wakeups, on=\"series_id\", how=\"left\")\n",
    "        .with_columns((pl.col(\"wakeup_step\") - pl.col(\"onset_step\")).alias(\"duration_in_steps\"))\n",
    "        .filter(\n",
    "            (pl.col(\"duration_in_steps\") >= min_sleep) & (pl.col(\"duration_in_steps\") <= max_sleep)\n",
    "        )\n",
    "    )\n",
    "\n",
    "    # ペアになったイベントのIDを取得\n",
    "    paired_onsets = paired_events.select(\"onset_step\").to_series()\n",
    "    paired_wakeups = paired_events.select(\"wakeup_step\").to_series()\n",
    "\n",
    "    # ペアにならなかった'onset'と'wakeup'を抽出\n",
    "    non_paired_onsets = onsets.filter(~pl.col(\"onset_step\").is_in(paired_onsets)).rename(\n",
    "        {\"onset_step\": \"step\"}\n",
    "    )\n",
    "    non_paired_wakeups = wakeups.filter(~pl.col(\"wakeup_step\").is_in(paired_wakeups)).rename(\n",
    "        {\"wakeup_step\": \"step\"}\n",
    "    )\n",
    "\n",
    "    # 結果を結合\n",
    "    non_paired_events = pl.concat([non_paired_onsets, non_paired_wakeups]).sort(\"step\")\n",
    "    non_paired_events = non_paired_events.with_columns(pl.lit(True).alias(\"non_pair_step\"))\n",
    "    return non_paired_events"
   ]
  },
  {
   "cell_type": "code",
   "execution_count": 23,
   "metadata": {},
   "outputs": [
    {
     "data": {
      "text/html": [
       "<div><style>\n",
       ".dataframe > thead > tr > th,\n",
       ".dataframe > tbody > tr > td {\n",
       "  text-align: right;\n",
       "  white-space: pre-wrap;\n",
       "}\n",
       "</style>\n",
       "<small>shape: (584, 3)</small><table border=\"1\" class=\"dataframe\"><thead><tr><th>series_id</th><th>step</th><th>non_pair_step</th></tr><tr><td>str</td><td>i64</td><td>bool</td></tr></thead><tbody><tr><td>&quot;2fc653ca75c7&quot;</td><td>66</td><td>true</td></tr><tr><td>&quot;0f572d690310&quot;</td><td>68</td><td>true</td></tr><tr><td>&quot;3aceb17ef7bd&quot;</td><td>68</td><td>true</td></tr><tr><td>&quot;1b92be89db4c&quot;</td><td>69</td><td>true</td></tr><tr><td>&quot;b4b75225b224&quot;</td><td>77</td><td>true</td></tr><tr><td>&quot;ca732a3c37f7&quot;</td><td>77</td><td>true</td></tr><tr><td>&quot;1d4569cbac0f&quot;</td><td>83</td><td>true</td></tr><tr><td>&quot;f88e18cb4100&quot;</td><td>85</td><td>true</td></tr><tr><td>&quot;1087d7b0ff2e&quot;</td><td>100</td><td>true</td></tr><tr><td>&quot;e69aff66e0cb&quot;</td><td>102</td><td>true</td></tr><tr><td>&quot;83fa182bec3a&quot;</td><td>118</td><td>true</td></tr><tr><td>&quot;03d92c9f6f8a&quot;</td><td>151</td><td>true</td></tr><tr><td>&hellip;</td><td>&hellip;</td><td>&hellip;</td></tr><tr><td>&quot;c107b5789660&quot;</td><td>663464</td><td>true</td></tr><tr><td>&quot;c107b5789660&quot;</td><td>664374</td><td>true</td></tr><tr><td>&quot;c107b5789660&quot;</td><td>680744</td><td>true</td></tr><tr><td>&quot;c107b5789660&quot;</td><td>681654</td><td>true</td></tr><tr><td>&quot;c107b5789660&quot;</td><td>698024</td><td>true</td></tr><tr><td>&quot;c107b5789660&quot;</td><td>698934</td><td>true</td></tr><tr><td>&quot;c107b5789660&quot;</td><td>715304</td><td>true</td></tr><tr><td>&quot;c107b5789660&quot;</td><td>716214</td><td>true</td></tr><tr><td>&quot;c107b5789660&quot;</td><td>732584</td><td>true</td></tr><tr><td>&quot;c107b5789660&quot;</td><td>733494</td><td>true</td></tr><tr><td>&quot;d043c0ca71cd&quot;</td><td>739399</td><td>true</td></tr><tr><td>&quot;d043c0ca71cd&quot;</td><td>745006</td><td>true</td></tr></tbody></table></div>"
      ],
      "text/plain": [
       "shape: (584, 3)\n",
       "┌──────────────┬────────┬───────────────┐\n",
       "│ series_id    ┆ step   ┆ non_pair_step │\n",
       "│ ---          ┆ ---    ┆ ---           │\n",
       "│ str          ┆ i64    ┆ bool          │\n",
       "╞══════════════╪════════╪═══════════════╡\n",
       "│ 2fc653ca75c7 ┆ 66     ┆ true          │\n",
       "│ 0f572d690310 ┆ 68     ┆ true          │\n",
       "│ 3aceb17ef7bd ┆ 68     ┆ true          │\n",
       "│ 1b92be89db4c ┆ 69     ┆ true          │\n",
       "│ …            ┆ …      ┆ …             │\n",
       "│ c107b5789660 ┆ 732584 ┆ true          │\n",
       "│ c107b5789660 ┆ 733494 ┆ true          │\n",
       "│ d043c0ca71cd ┆ 739399 ┆ true          │\n",
       "│ d043c0ca71cd ┆ 745006 ┆ true          │\n",
       "└──────────────┴────────┴───────────────┘"
      ]
     },
     "execution_count": 23,
     "metadata": {},
     "output_type": "execute_result"
    }
   ],
   "source": [
    "nonpair_step_df = find_nonpaired_events(high_score_pred_df)\n",
    "nonpair_step_df"
   ]
  },
  {
   "cell_type": "code",
   "execution_count": 13,
   "metadata": {},
   "outputs": [
    {
     "data": {
      "text/plain": [
       "0.35277777777777775"
      ]
     },
     "execution_count": 13,
     "metadata": {},
     "output_type": "execute_result"
    }
   ],
   "source": [
    "# nonpair_step_dfをpred_dfから削除\n",
    "_pred_df = (\n",
    "    pred_df.join(nonpair_step_df, on=[\"series_id\", \"step\"], how=\"left\")\n",
    "    .filter(pl.col(\"non_pair_step\").is_null())\n",
    "    .select(\"series_id\", \"step\", \"event\", \"score\")\n",
    ").with_row_count(\"row_id\")\n",
    "event_detection_ap(\n",
    "    gt_df.query(f'series_id in {list(pred_df[\"series_id\"].unique())}'),\n",
    "    _pred_df.to_pandas(),\n",
    ")"
   ]
  },
  {
   "cell_type": "markdown",
   "metadata": {},
   "source": [
    "## 全seriesに適用してみる"
   ]
  },
  {
   "cell_type": "code",
   "execution_count": 43,
   "metadata": {},
   "outputs": [],
   "source": [
    "def get_submission_df_all(\n",
    "    preds, keys, labels, score_th=0.001, distance=70, low_pass_filter_hour=5\n",
    "):\n",
    "    df_list = []\n",
    "    series_ids = np.array(list(map(lambda x: x.split(\"_\")[0], keys)))\n",
    "    unique_series_ids = np.unique(series_ids)\n",
    "    for i, series_id in enumerate(unique_series_ids):\n",
    "        series_idx = np.where(series_ids == series_id)[0]\n",
    "        this_series_preds = preds[series_idx].reshape(-1, 3)\n",
    "        this_series_labels = labels[series_idx].reshape(-1, 3)\n",
    "        _df = post_process_for_seg(\n",
    "            [series_id] * len(this_series_preds),\n",
    "            this_series_preds[:, [1, 2]],\n",
    "            score_th,\n",
    "            distance,\n",
    "            low_pass_filter_hour,\n",
    "        )\n",
    "        if len(_df) > 1:\n",
    "            df_list.append(_df)\n",
    "    pred_df = pl.concat(df_list)\n",
    "    return pred_df"
   ]
  },
  {
   "cell_type": "code",
   "execution_count": 44,
   "metadata": {},
   "outputs": [
    {
     "data": {
      "text/html": [
       "<div><style>\n",
       ".dataframe > thead > tr > th,\n",
       ".dataframe > tbody > tr > td {\n",
       "  text-align: right;\n",
       "  white-space: pre-wrap;\n",
       "}\n",
       "</style>\n",
       "<small>shape: (64_568, 5)</small><table border=\"1\" class=\"dataframe\"><thead><tr><th>row_id</th><th>series_id</th><th>step</th><th>event</th><th>score</th></tr><tr><td>i64</td><td>str</td><td>i64</td><td>str</td><td>f64</td></tr></thead><tbody><tr><td>0</td><td>&quot;038441c925bb&quot;</td><td>232</td><td>&quot;wakeup&quot;</td><td>0.003066</td></tr><tr><td>1</td><td>&quot;038441c925bb&quot;</td><td>492</td><td>&quot;wakeup&quot;</td><td>0.011878</td></tr><tr><td>2</td><td>&quot;038441c925bb&quot;</td><td>601</td><td>&quot;wakeup&quot;</td><td>0.03187</td></tr><tr><td>3</td><td>&quot;038441c925bb&quot;</td><td>4989</td><td>&quot;onset&quot;</td><td>0.707954</td></tr><tr><td>4</td><td>&quot;038441c925bb&quot;</td><td>5486</td><td>&quot;onset&quot;</td><td>0.001985</td></tr><tr><td>5</td><td>&quot;038441c925bb&quot;</td><td>9349</td><td>&quot;wakeup&quot;</td><td>0.01226</td></tr><tr><td>6</td><td>&quot;038441c925bb&quot;</td><td>9736</td><td>&quot;wakeup&quot;</td><td>0.054112</td></tr><tr><td>7</td><td>&quot;038441c925bb&quot;</td><td>9957</td><td>&quot;wakeup&quot;</td><td>0.001083</td></tr><tr><td>8</td><td>&quot;038441c925bb&quot;</td><td>10160</td><td>&quot;wakeup&quot;</td><td>0.004024</td></tr><tr><td>9</td><td>&quot;038441c925bb&quot;</td><td>10284</td><td>&quot;wakeup&quot;</td><td>0.001103</td></tr><tr><td>10</td><td>&quot;038441c925bb&quot;</td><td>10502</td><td>&quot;wakeup&quot;</td><td>0.001762</td></tr><tr><td>11</td><td>&quot;038441c925bb&quot;</td><td>10935</td><td>&quot;wakeup&quot;</td><td>0.676542</td></tr><tr><td>&hellip;</td><td>&hellip;</td><td>&hellip;</td><td>&hellip;</td><td>&hellip;</td></tr><tr><td>403</td><td>&quot;fe90110788d2&quot;</td><td>575359</td><td>&quot;onset&quot;</td><td>0.001808</td></tr><tr><td>404</td><td>&quot;fe90110788d2&quot;</td><td>575624</td><td>&quot;onset&quot;</td><td>0.003015</td></tr><tr><td>405</td><td>&quot;fe90110788d2&quot;</td><td>580411</td><td>&quot;wakeup&quot;</td><td>0.01243</td></tr><tr><td>406</td><td>&quot;fe90110788d2&quot;</td><td>581228</td><td>&quot;wakeup&quot;</td><td>0.00184</td></tr><tr><td>407</td><td>&quot;fe90110788d2&quot;</td><td>581594</td><td>&quot;wakeup&quot;</td><td>0.516264</td></tr><tr><td>408</td><td>&quot;fe90110788d2&quot;</td><td>581798</td><td>&quot;wakeup&quot;</td><td>0.036701</td></tr><tr><td>409</td><td>&quot;fe90110788d2&quot;</td><td>581938</td><td>&quot;wakeup&quot;</td><td>0.00448</td></tr><tr><td>410</td><td>&quot;fe90110788d2&quot;</td><td>587512</td><td>&quot;onset&quot;</td><td>0.001791</td></tr><tr><td>411</td><td>&quot;fe90110788d2&quot;</td><td>591570</td><td>&quot;onset&quot;</td><td>0.24496</td></tr><tr><td>412</td><td>&quot;fe90110788d2&quot;</td><td>591712</td><td>&quot;onset&quot;</td><td>0.033901</td></tr><tr><td>413</td><td>&quot;fe90110788d2&quot;</td><td>592325</td><td>&quot;wakeup&quot;</td><td>0.002223</td></tr><tr><td>414</td><td>&quot;fe90110788d2&quot;</td><td>592356</td><td>&quot;onset&quot;</td><td>0.005082</td></tr></tbody></table></div>"
      ],
      "text/plain": [
       "shape: (64_568, 5)\n",
       "┌────────┬──────────────┬────────┬────────┬──────────┐\n",
       "│ row_id ┆ series_id    ┆ step   ┆ event  ┆ score    │\n",
       "│ ---    ┆ ---          ┆ ---    ┆ ---    ┆ ---      │\n",
       "│ i64    ┆ str          ┆ i64    ┆ str    ┆ f64      │\n",
       "╞════════╪══════════════╪════════╪════════╪══════════╡\n",
       "│ 0      ┆ 038441c925bb ┆ 232    ┆ wakeup ┆ 0.003066 │\n",
       "│ 1      ┆ 038441c925bb ┆ 492    ┆ wakeup ┆ 0.011878 │\n",
       "│ 2      ┆ 038441c925bb ┆ 601    ┆ wakeup ┆ 0.03187  │\n",
       "│ 3      ┆ 038441c925bb ┆ 4989   ┆ onset  ┆ 0.707954 │\n",
       "│ …      ┆ …            ┆ …      ┆ …      ┆ …        │\n",
       "│ 411    ┆ fe90110788d2 ┆ 591570 ┆ onset  ┆ 0.24496  │\n",
       "│ 412    ┆ fe90110788d2 ┆ 591712 ┆ onset  ┆ 0.033901 │\n",
       "│ 413    ┆ fe90110788d2 ┆ 592325 ┆ wakeup ┆ 0.002223 │\n",
       "│ 414    ┆ fe90110788d2 ┆ 592356 ┆ onset  ┆ 0.005082 │\n",
       "└────────┴──────────────┴────────┴────────┴──────────┘"
      ]
     },
     "execution_count": 44,
     "metadata": {},
     "output_type": "execute_result"
    }
   ],
   "source": [
    "pred_df = get_submission_df_all(all_preds, all_keys, all_labels)"
   ]
  },
  {
   "cell_type": "code",
   "execution_count": 18,
   "metadata": {},
   "outputs": [
    {
     "data": {
      "text/plain": [
       "0.7862887979283817"
      ]
     },
     "execution_count": 18,
     "metadata": {},
     "output_type": "execute_result"
    }
   ],
   "source": [
    "# baseline score\n",
    "event_detection_ap(\n",
    "    gt_df.query(f'series_id in {list(pred_df[\"series_id\"].unique())}'),\n",
    "    pred_df.to_pandas(),\n",
    ")"
   ]
  },
  {
   "cell_type": "code",
   "execution_count": 54,
   "metadata": {},
   "outputs": [],
   "source": [
    "high_score_pred_df = get_submission_df_all(all_preds, all_keys, all_labels, score_th=0.01)"
   ]
  },
  {
   "cell_type": "code",
   "execution_count": 55,
   "metadata": {},
   "outputs": [
    {
     "name": "stdout",
     "output_type": "stream",
     "text": [
      "max_hour:24  score:0.7875316723414171\n"
     ]
    }
   ],
   "source": [
    "for max_hour in [24]:\n",
    "    nonpair_step_df = find_nonpaired_events(high_score_pred_df, min_hour=0.5, max_hour=max_hour)\n",
    "\n",
    "    # nonpair_step_dfをpred_dfから削除\n",
    "    _pred_df = (\n",
    "        pred_df.join(nonpair_step_df, on=[\"series_id\", \"step\"], how=\"left\")\n",
    "        .filter(pl.col(\"non_pair_step\").is_null())\n",
    "        .select(\"series_id\", \"step\", \"event\", \"score\")\n",
    "    ).with_row_count(\"row_id\")\n",
    "    score = event_detection_ap(\n",
    "        gt_df.query(f'series_id in {list(pred_df[\"series_id\"].unique())}'),\n",
    "        _pred_df.to_pandas(),\n",
    "    )\n",
    "    print(f\"max_hour:{max_hour}  score:{score}\")"
   ]
  },
  {
   "cell_type": "code",
   "execution_count": null,
   "metadata": {},
   "outputs": [],
   "source": []
  }
 ],
 "metadata": {
  "kernelspec": {
   "display_name": ".venv",
   "language": "python",
   "name": "python3"
  },
  "language_info": {
   "codemirror_mode": {
    "name": "ipython",
    "version": 3
   },
   "file_extension": ".py",
   "mimetype": "text/x-python",
   "name": "python",
   "nbconvert_exporter": "python",
   "pygments_lexer": "ipython3",
   "version": "3.10.11"
  }
 },
 "nbformat": 4,
 "nbformat_minor": 2
}
