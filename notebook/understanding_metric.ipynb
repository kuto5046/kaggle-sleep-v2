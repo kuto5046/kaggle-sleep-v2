{
 "cells": [
  {
   "cell_type": "markdown",
   "metadata": {},
   "source": [
    "torelanceに応じた基本的なscoringについてはこのdiscussionに書いてある。しかし複数のピークが経っている場合やラベルがない場合の理解が曖昧なのでテストを書いてみる。\n",
    "https://www.kaggle.com/competitions/child-mind-institute-detect-sleep-states/discussion/438936\n"
   ]
  },
  {
   "cell_type": "code",
   "execution_count": 1,
   "metadata": {},
   "outputs": [
    {
     "data": {
      "text/html": [
       "\n",
       "                <script type=\"application/javascript\" id=\"jupyter_black\">\n",
       "                (function() {\n",
       "                    if (window.IPython === undefined) {\n",
       "                        return\n",
       "                    }\n",
       "                    var msg = \"WARNING: it looks like you might have loaded \" +\n",
       "                        \"jupyter_black in a non-lab notebook with \" +\n",
       "                        \"`is_lab=True`. Please double check, and if \" +\n",
       "                        \"loading with `%load_ext` please review the README!\"\n",
       "                    console.log(msg)\n",
       "                    alert(msg)\n",
       "                })()\n",
       "                </script>\n",
       "                "
      ],
      "text/plain": [
       "<IPython.core.display.HTML object>"
      ]
     },
     "metadata": {},
     "output_type": "display_data"
    }
   ],
   "source": [
    "\n",
    "import jupyter_black\n",
    "import polars as pl\n",
    "import seaborn as sns\n",
    "\n",
    "from src.utils.metrics import event_detection_ap\n",
    "\n",
    "jupyter_black.load()\n",
    "# plt.style.use(\"ggplot\")\n",
    "sns.set()"
   ]
  },
  {
   "cell_type": "code",
   "execution_count": 2,
   "metadata": {},
   "outputs": [],
   "source": [
    "labels = pl.read_csv(\n",
    "    \"/home/kuto/kaggle/kaggle-sleep-v2/data/child-mind-institute-detect-sleep-states/train_events.csv\"\n",
    ").drop_nulls()"
   ]
  },
  {
   "cell_type": "code",
   "execution_count": 3,
   "metadata": {},
   "outputs": [
    {
     "data": {
      "text/html": [
       "<div><style>\n",
       ".dataframe > thead > tr > th,\n",
       ".dataframe > tbody > tr > td {\n",
       "  text-align: right;\n",
       "  white-space: pre-wrap;\n",
       "}\n",
       "</style>\n",
       "<small>shape: (4, 5)</small><table border=\"1\" class=\"dataframe\"><thead><tr><th>series_id</th><th>night</th><th>event</th><th>step</th><th>timestamp</th></tr><tr><td>str</td><td>i64</td><td>str</td><td>i64</td><td>str</td></tr></thead><tbody><tr><td>&quot;7476c0bd18d2&quot;</td><td>4</td><td>&quot;onset&quot;</td><td>56340</td><td>&quot;2019-03-02T23:…</td></tr><tr><td>&quot;7476c0bd18d2&quot;</td><td>4</td><td>&quot;wakeup&quot;</td><td>62412</td><td>&quot;2019-03-03T07:…</td></tr><tr><td>&quot;7476c0bd18d2&quot;</td><td>5</td><td>&quot;onset&quot;</td><td>73836</td><td>&quot;2019-03-03T23:…</td></tr><tr><td>&quot;7476c0bd18d2&quot;</td><td>5</td><td>&quot;wakeup&quot;</td><td>75348</td><td>&quot;2019-03-04T01:…</td></tr></tbody></table></div>"
      ],
      "text/plain": [
       "shape: (4, 5)\n",
       "┌──────────────┬───────┬────────┬───────┬──────────────────────────┐\n",
       "│ series_id    ┆ night ┆ event  ┆ step  ┆ timestamp                │\n",
       "│ ---          ┆ ---   ┆ ---    ┆ ---   ┆ ---                      │\n",
       "│ str          ┆ i64   ┆ str    ┆ i64   ┆ str                      │\n",
       "╞══════════════╪═══════╪════════╪═══════╪══════════════════════════╡\n",
       "│ 7476c0bd18d2 ┆ 4     ┆ onset  ┆ 56340 ┆ 2019-03-02T23:30:00-0500 │\n",
       "│ 7476c0bd18d2 ┆ 4     ┆ wakeup ┆ 62412 ┆ 2019-03-03T07:56:00-0500 │\n",
       "│ 7476c0bd18d2 ┆ 5     ┆ onset  ┆ 73836 ┆ 2019-03-03T23:48:00-0500 │\n",
       "│ 7476c0bd18d2 ┆ 5     ┆ wakeup ┆ 75348 ┆ 2019-03-04T01:54:00-0500 │\n",
       "└──────────────┴───────┴────────┴───────┴──────────────────────────┘"
      ]
     },
     "execution_count": 3,
     "metadata": {},
     "output_type": "execute_result"
    }
   ],
   "source": [
    "series_id = \"7476c0bd18d2\"\n",
    "# night = 4\n",
    "\n",
    "target_events = labels.filter(\n",
    "    pl.col(\"series_id\") == series_id\n",
    ")  # .filter(pl.col(\"night\") <= night)\n",
    "target_events"
   ]
  },
  {
   "cell_type": "markdown",
   "metadata": {},
   "source": [
    "## 基本的な挙動"
   ]
  },
  {
   "cell_type": "code",
   "execution_count": 4,
   "metadata": {},
   "outputs": [
    {
     "name": "stdout",
     "output_type": "stream",
     "text": [
      "diff:0, score:1.0\n",
      "diff:12, score:0.9\n",
      "diff:36, score:0.8\n",
      "diff:60, score:0.7\n",
      "diff:90, score:0.6\n",
      "diff:120, score:0.5\n",
      "diff:150, score:0.4\n",
      "diff:180, score:0.3\n",
      "diff:240, score:0.2\n",
      "diff:300, score:0.1\n",
      "diff:360, score:0.0\n"
     ]
    }
   ],
   "source": [
    "# stepをずらした場合、torelanceに応じてscoreが変わる(距離が離れているほどscoreが下がる)\n",
    "for diff in [0, 12, 36, 60, 90, 120, 150, 180, 240, 300, 360]:\n",
    "    pred_events = target_events.clone().select([\"series_id\", \"event\", \"step\"])\n",
    "    pred_events = pred_events.with_columns(\n",
    "        pl.lit(1).alias(\"score\"),\n",
    "        pl.col(\"step\") + diff,\n",
    "    )\n",
    "    score = event_detection_ap(target_events.to_pandas(), pred_events.to_pandas())\n",
    "    print(f\"diff:{diff}, score:{score}\")"
   ]
  },
  {
   "cell_type": "code",
   "execution_count": 5,
   "metadata": {},
   "outputs": [
    {
     "name": "stdout",
     "output_type": "stream",
     "text": [
      "diff:0, score:1.0\n",
      "diff:12, score:0.95\n",
      "diff:36, score:0.9\n",
      "diff:60, score:0.85\n",
      "diff:90, score:0.8\n",
      "diff:120, score:0.75\n",
      "diff:150, score:0.7\n",
      "diff:180, score:0.65\n",
      "diff:240, score:0.6\n",
      "diff:300, score:0.55\n",
      "diff:360, score:0.5\n"
     ]
    }
   ],
   "source": [
    "# stepを片方のイベントだけずらした場合片方分のscoreのみ下がるため上のケースよりはscoreの減少幅が少ない\n",
    "for diff in [0, 12, 36, 60, 90, 120, 150, 180, 240, 300, 360]:\n",
    "    pred_events = target_events.clone().select([\"series_id\", \"event\", \"step\"])\n",
    "    pred_events = pred_events.with_columns(\n",
    "        pl.lit(1).alias(\"score\"),\n",
    "        pl.when(pl.col(\"event\") == \"onset\").then(pl.col(\"step\") + diff).otherwise(pl.col(\"step\")),\n",
    "    )\n",
    "    score = event_detection_ap(target_events.to_pandas(), pred_events.to_pandas())\n",
    "    print(f\"diff:{diff}, score:{score}\")"
   ]
  },
  {
   "cell_type": "markdown",
   "metadata": {},
   "source": [
    "## ラベルありのところの検証"
   ]
  },
  {
   "cell_type": "code",
   "execution_count": 6,
   "metadata": {},
   "outputs": [
    {
     "name": "stdout",
     "output_type": "stream",
     "text": [
      "score:1.0\n",
      "score:0.95\n",
      "score:0.9\n",
      "score:0.85\n",
      "score:0.8\n",
      "score:0.75\n",
      "score:0.7\n",
      "score:0.65\n",
      "score:0.6\n",
      "score:0.55\n",
      "score:0.5\n",
      "score:0.5\n"
     ]
    }
   ],
   "source": [
    "# gtからdiff離れたところに最もscoreの高いピーク(0.6)があり、その次に高いscore(0.5)がGTのstepにある場合\n",
    "# diff分離れたピークがまずgtとのtoleranceに基づいて評価される。\n",
    "# その後scoreが低いピークも評価されそれはscore=1になって平均が取られる。\n",
    "# scoreが高い順に見る→そのstepに近い未マッチのgtを見る→予測とGTをマッチさせる\n",
    "for diff in [0, 12, 36, 60, 90, 120, 150, 180, 240, 300, 360, 500]:\n",
    "    pred_events = target_events.clone().select([\"series_id\", \"event\", \"step\"])\n",
    "    pred_events = pred_events.with_columns(\n",
    "        pl.lit(0.5).alias(\"score\"),\n",
    "    )\n",
    "    pred_events = pl.concat(\n",
    "        [\n",
    "            pred_events,\n",
    "            pred_events.with_columns(\n",
    "                pl.col(\"step\") + diff,\n",
    "                pl.lit(0.6).alias(\"score\"),\n",
    "            ),\n",
    "        ]\n",
    "    )\n",
    "    score = event_detection_ap(target_events.to_pandas(), pred_events.to_pandas())\n",
    "    print(f\"score:{score}\")"
   ]
  },
  {
   "cell_type": "code",
   "execution_count": 7,
   "metadata": {},
   "outputs": [
    {
     "name": "stdout",
     "output_type": "stream",
     "text": [
      "shape: (2, 4)\n",
      "┌──────────────┬────────┬───────┬───────┐\n",
      "│ series_id    ┆ event  ┆ step  ┆ score │\n",
      "│ ---          ┆ ---    ┆ ---   ┆ ---   │\n",
      "│ str          ┆ str    ┆ i64   ┆ f64   │\n",
      "╞══════════════╪════════╪═══════╪═══════╡\n",
      "│ 7476c0bd18d2 ┆ onset  ┆ 56340 ┆ 1.0   │\n",
      "│ 7476c0bd18d2 ┆ wakeup ┆ 62412 ┆ 1.0   │\n",
      "└──────────────┴────────┴───────┴───────┘\n",
      "score:0.5\n"
     ]
    }
   ],
   "source": [
    "# GTはあるが未検出がある場合 → その分のスコアが0で平均が計算される\n",
    "pred_events = target_events.clone().select([\"series_id\", \"event\", \"step\"])\n",
    "pred_events = pred_events.with_columns(\n",
    "    pl.lit(1.0).alias(\"score\"),\n",
    ")\n",
    "pred_events = pred_events[:2]\n",
    "print(pred_events)\n",
    "score = event_detection_ap(target_events.to_pandas(), pred_events.to_pandas())\n",
    "print(f\"score:{score}\")"
   ]
  },
  {
   "cell_type": "code",
   "execution_count": 8,
   "metadata": {},
   "outputs": [
    {
     "name": "stdout",
     "output_type": "stream",
     "text": [
      "shape: (8, 4)\n",
      "┌──────────────┬────────┬────────┬───────┐\n",
      "│ series_id    ┆ event  ┆ step   ┆ score │\n",
      "│ ---          ┆ ---    ┆ ---    ┆ ---   │\n",
      "│ str          ┆ str    ┆ i64    ┆ f64   │\n",
      "╞══════════════╪════════╪════════╪═══════╡\n",
      "│ 7476c0bd18d2 ┆ onset  ┆ 56340  ┆ 1.0   │\n",
      "│ 7476c0bd18d2 ┆ wakeup ┆ 62412  ┆ 1.0   │\n",
      "│ 7476c0bd18d2 ┆ onset  ┆ 73836  ┆ 1.0   │\n",
      "│ 7476c0bd18d2 ┆ wakeup ┆ 75348  ┆ 1.0   │\n",
      "│ 7476c0bd18d2 ┆ onset  ┆ 156340 ┆ 0.9   │\n",
      "│ 7476c0bd18d2 ┆ wakeup ┆ 162412 ┆ 0.9   │\n",
      "│ 7476c0bd18d2 ┆ onset  ┆ 173836 ┆ 0.9   │\n",
      "│ 7476c0bd18d2 ┆ wakeup ┆ 175348 ┆ 0.9   │\n",
      "└──────────────┴────────┴────────┴───────┘\n",
      "score:1.0\n"
     ]
    }
   ],
   "source": [
    "# GTがないところを他のところ(score=1.0)より小さいscore(score=0.9)で予測している\n",
    "# → 誤検出にはならずscore=1\n",
    "pred_events = target_events.clone().select([\"series_id\", \"event\", \"step\"])\n",
    "pred_events = pred_events.with_columns(\n",
    "    pl.lit(1.0).alias(\"score\"),\n",
    ")\n",
    "# stepをずらしたラベルを追加\n",
    "pred_events = pl.concat(\n",
    "    [pred_events, pred_events.with_columns(pl.col(\"step\") + 100000, pl.col(\"score\") - 0.1)]\n",
    ")\n",
    "print(pred_events)\n",
    "score = event_detection_ap(target_events.to_pandas(), pred_events.to_pandas())\n",
    "print(f\"score:{score}\")"
   ]
  },
  {
   "cell_type": "code",
   "execution_count": 9,
   "metadata": {},
   "outputs": [
    {
     "name": "stdout",
     "output_type": "stream",
     "text": [
      "shape: (8, 4)\n",
      "┌──────────────┬────────┬────────┬───────┐\n",
      "│ series_id    ┆ event  ┆ step   ┆ score │\n",
      "│ ---          ┆ ---    ┆ ---    ┆ ---   │\n",
      "│ str          ┆ str    ┆ i64    ┆ f64   │\n",
      "╞══════════════╪════════╪════════╪═══════╡\n",
      "│ 7476c0bd18d2 ┆ onset  ┆ 56340  ┆ 0.9   │\n",
      "│ 7476c0bd18d2 ┆ wakeup ┆ 62412  ┆ 0.9   │\n",
      "│ 7476c0bd18d2 ┆ onset  ┆ 73836  ┆ 0.9   │\n",
      "│ 7476c0bd18d2 ┆ wakeup ┆ 75348  ┆ 0.9   │\n",
      "│ 7476c0bd18d2 ┆ onset  ┆ 156340 ┆ 1.0   │\n",
      "│ 7476c0bd18d2 ┆ wakeup ┆ 162412 ┆ 1.0   │\n",
      "│ 7476c0bd18d2 ┆ onset  ┆ 173836 ┆ 1.0   │\n",
      "│ 7476c0bd18d2 ┆ wakeup ┆ 175348 ┆ 1.0   │\n",
      "└──────────────┴────────┴────────┴───────┘\n",
      "score:0.5\n"
     ]
    }
   ],
   "source": [
    "# GTがないところを他のところ(0.9)より大きいscore(1)で予測している\n",
    "# → 誤検出にはなり\n",
    "pred_events = target_events.clone().select([\"series_id\", \"event\", \"step\"])\n",
    "pred_events = pred_events.with_columns(\n",
    "    pl.lit(0.9).alias(\"score\"),\n",
    ")\n",
    "# stepをずらしたラベルを追加\n",
    "pred_events = pl.concat(\n",
    "    [pred_events, pred_events.with_columns(pl.col(\"step\") + 100000, pl.col(\"score\") + 0.1)]\n",
    ")\n",
    "print(pred_events)\n",
    "score = event_detection_ap(target_events.to_pandas(), pred_events.to_pandas())\n",
    "print(f\"score:{score}\")"
   ]
  },
  {
   "cell_type": "code",
   "execution_count": 10,
   "metadata": {},
   "outputs": [
    {
     "name": "stdout",
     "output_type": "stream",
     "text": [
      "shape: (8, 6)\n",
      "┌──────────────┬───────┬────────┬────────┬──────────────────────────┬───────┐\n",
      "│ series_id    ┆ night ┆ event  ┆ step   ┆ timestamp                ┆ score │\n",
      "│ ---          ┆ ---   ┆ ---    ┆ ---    ┆ ---                      ┆ ---   │\n",
      "│ str          ┆ i64   ┆ str    ┆ i64    ┆ str                      ┆ f64   │\n",
      "╞══════════════╪═══════╪════════╪════════╪══════════════════════════╪═══════╡\n",
      "│ 7476c0bd18d2 ┆ 4     ┆ onset  ┆ 56340  ┆ 2019-03-02T23:30:00-0500 ┆ 1.0   │\n",
      "│ 7476c0bd18d2 ┆ 4     ┆ wakeup ┆ 62412  ┆ 2019-03-03T07:56:00-0500 ┆ 1.0   │\n",
      "│ 7476c0bd18d2 ┆ 5     ┆ onset  ┆ 73836  ┆ 2019-03-03T23:48:00-0500 ┆ 1.0   │\n",
      "│ 7476c0bd18d2 ┆ 5     ┆ wakeup ┆ 75348  ┆ 2019-03-04T01:54:00-0500 ┆ 1.0   │\n",
      "│ 7476c0bd18d2 ┆ 6     ┆ onset  ┆ 156340 ┆ 2019-03-02T23:30:00-0500 ┆ 1.0   │\n",
      "│ 7476c0bd18d2 ┆ 6     ┆ wakeup ┆ 162412 ┆ 2019-03-03T07:56:00-0500 ┆ 1.0   │\n",
      "│ 7476c0bd18d2 ┆ 7     ┆ onset  ┆ 173836 ┆ 2019-03-03T23:48:00-0500 ┆ 1.0   │\n",
      "│ 7476c0bd18d2 ┆ 7     ┆ wakeup ┆ 175348 ┆ 2019-03-04T01:54:00-0500 ┆ 1.0   │\n",
      "└──────────────┴───────┴────────┴────────┴──────────────────────────┴───────┘\n",
      "score:0.5\n"
     ]
    }
   ],
   "source": [
    "# 同一score、同一eventの重複がある場合\n",
    "# → これがなぜかscoreが下がる(これは注意した方がいい)\n",
    "pred_events = target_events.clone()\n",
    "pred_events = pred_events.with_columns(\n",
    "    pl.lit(1.0).alias(\"score\"),\n",
    ")\n",
    "pred_events = pl.concat(\n",
    "    [pred_events, pred_events.with_columns(pl.col(\"step\") + 100000, pl.col(\"night\") + 2)]\n",
    ")\n",
    "print(pred_events)\n",
    "score = event_detection_ap(target_events.to_pandas(), pred_events.to_pandas())\n",
    "print(f\"score:{score}\")"
   ]
  },
  {
   "cell_type": "code",
   "execution_count": 11,
   "metadata": {},
   "outputs": [
    {
     "name": "stdout",
     "output_type": "stream",
     "text": [
      "shape: (8, 6)\n",
      "┌──────────────┬───────┬────────┬───────┬──────────────────────────┬───────┐\n",
      "│ series_id    ┆ night ┆ event  ┆ step  ┆ timestamp                ┆ score │\n",
      "│ ---          ┆ ---   ┆ ---    ┆ ---   ┆ ---                      ┆ ---   │\n",
      "│ str          ┆ i64   ┆ str    ┆ i64   ┆ str                      ┆ f64   │\n",
      "╞══════════════╪═══════╪════════╪═══════╪══════════════════════════╪═══════╡\n",
      "│ 7476c0bd18d2 ┆ 4     ┆ onset  ┆ 56340 ┆ 2019-03-02T23:30:00-0500 ┆ 1.0   │\n",
      "│ 7476c0bd18d2 ┆ 4     ┆ wakeup ┆ 62412 ┆ 2019-03-03T07:56:00-0500 ┆ 1.0   │\n",
      "│ 7476c0bd18d2 ┆ 5     ┆ onset  ┆ 73836 ┆ 2019-03-03T23:48:00-0500 ┆ 1.0   │\n",
      "│ 7476c0bd18d2 ┆ 5     ┆ wakeup ┆ 75348 ┆ 2019-03-04T01:54:00-0500 ┆ 1.0   │\n",
      "│ 7476c0bd18d2 ┆ 4     ┆ onset  ┆ 56340 ┆ 2019-03-02T23:30:00-0500 ┆ 1.0   │\n",
      "│ 7476c0bd18d2 ┆ 4     ┆ wakeup ┆ 62412 ┆ 2019-03-03T07:56:00-0500 ┆ 1.0   │\n",
      "│ 7476c0bd18d2 ┆ 5     ┆ onset  ┆ 73836 ┆ 2019-03-03T23:48:00-0500 ┆ 1.0   │\n",
      "│ 7476c0bd18d2 ┆ 5     ┆ wakeup ┆ 75348 ┆ 2019-03-04T01:54:00-0500 ┆ 1.0   │\n",
      "└──────────────┴───────┴────────┴───────┴──────────────────────────┴───────┘\n",
      "score:0.5\n"
     ]
    }
   ],
   "source": [
    "# 同一score、同一eventの重複がある場合\n",
    "# → これがなぜかscoreが下がる(これは注意した方がいい)\n",
    "pred_events = target_events.clone()\n",
    "pred_events = pred_events.with_columns(\n",
    "    pl.lit(1.0).alias(\"score\"),\n",
    ")\n",
    "pred_events = pl.concat([pred_events, pred_events])\n",
    "print(pred_events)\n",
    "score = event_detection_ap(target_events.to_pandas(), pred_events.to_pandas())\n",
    "print(f\"score:{score}\")"
   ]
  },
  {
   "cell_type": "code",
   "execution_count": 12,
   "metadata": {},
   "outputs": [
    {
     "name": "stdout",
     "output_type": "stream",
     "text": [
      "shape: (5, 6)\n",
      "┌──────────────┬───────┬────────┬───────┬──────────────────────────┬───────┐\n",
      "│ series_id    ┆ night ┆ event  ┆ step  ┆ timestamp                ┆ score │\n",
      "│ ---          ┆ ---   ┆ ---    ┆ ---   ┆ ---                      ┆ ---   │\n",
      "│ str          ┆ i64   ┆ str    ┆ i64   ┆ str                      ┆ f64   │\n",
      "╞══════════════╪═══════╪════════╪═══════╪══════════════════════════╪═══════╡\n",
      "│ 7476c0bd18d2 ┆ 4     ┆ onset  ┆ 56340 ┆ 2019-03-02T23:30:00-0500 ┆ 1.0   │\n",
      "│ 7476c0bd18d2 ┆ 4     ┆ wakeup ┆ 62412 ┆ 2019-03-03T07:56:00-0500 ┆ 1.0   │\n",
      "│ 7476c0bd18d2 ┆ 4     ┆ wakeup ┆ 62412 ┆ 2019-03-03T07:56:00-0500 ┆ 0.5   │\n",
      "│ 7476c0bd18d2 ┆ 5     ┆ onset  ┆ 73836 ┆ 2019-03-03T23:48:00-0500 ┆ 1.0   │\n",
      "│ 7476c0bd18d2 ┆ 5     ┆ wakeup ┆ 75348 ┆ 2019-03-04T01:54:00-0500 ┆ 1.0   │\n",
      "└──────────────┴───────┴────────┴───────┴──────────────────────────┴───────┘\n",
      "score:1.0\n"
     ]
    }
   ],
   "source": [
    "# scoreが異なるものが、同一eventの重複がある場合\n",
    "# → 重複のscoreが高い方がちゃんと採用されるので満点になる\n",
    "pred_events = target_events.clone()\n",
    "pred_events = pred_events.with_columns(\n",
    "    pl.lit(1.0).alias(\"score\"),\n",
    ")\n",
    "_pred_events = pred_events[1].with_columns(pl.lit(0.5).alias(\"score\"))\n",
    "pred_events = pl.concat([pred_events, _pred_events]).sort(\"step\")\n",
    "\n",
    "print(pred_events)\n",
    "score = event_detection_ap(target_events.to_pandas(), pred_events.to_pandas())\n",
    "print(f\"score:{score}\")"
   ]
  },
  {
   "cell_type": "code",
   "execution_count": 13,
   "metadata": {},
   "outputs": [
    {
     "name": "stdout",
     "output_type": "stream",
     "text": [
      "shape: (5, 6)\n",
      "┌──────────────┬───────┬────────┬───────┬──────────────────────────┬───────┐\n",
      "│ series_id    ┆ night ┆ event  ┆ step  ┆ timestamp                ┆ score │\n",
      "│ ---          ┆ ---   ┆ ---    ┆ ---   ┆ ---                      ┆ ---   │\n",
      "│ str          ┆ i64   ┆ str    ┆ i64   ┆ str                      ┆ f64   │\n",
      "╞══════════════╪═══════╪════════╪═══════╪══════════════════════════╪═══════╡\n",
      "│ 7476c0bd18d2 ┆ 4     ┆ onset  ┆ 56340 ┆ 2019-03-02T23:30:00-0500 ┆ 0.5   │\n",
      "│ 7476c0bd18d2 ┆ 4     ┆ wakeup ┆ 62412 ┆ 2019-03-03T07:56:00-0500 ┆ 0.5   │\n",
      "│ 7476c0bd18d2 ┆ 4     ┆ wakeup ┆ 62424 ┆ 2019-03-03T07:56:00-0500 ┆ 1.0   │\n",
      "│ 7476c0bd18d2 ┆ 5     ┆ onset  ┆ 73836 ┆ 2019-03-03T23:48:00-0500 ┆ 0.5   │\n",
      "│ 7476c0bd18d2 ┆ 5     ┆ wakeup ┆ 75348 ┆ 2019-03-04T01:54:00-0500 ┆ 0.5   │\n",
      "└──────────────┴───────┴────────┴───────┴──────────────────────────┴───────┘\n",
      "score:0.9083333333333333\n"
     ]
    }
   ],
   "source": [
    "# scoreが異なるものが、同一eventの重複がある場合\n",
    "# → stepが外れておりscoreが高い方が採用される\n",
    "pred_events = target_events.clone()\n",
    "pred_events = pred_events.with_columns(\n",
    "    pl.lit(0.5).alias(\"score\"),\n",
    ")\n",
    "_pred_events = pred_events[1].with_columns(\n",
    "    pl.lit(1.0).alias(\"score\"),\n",
    "    pl.col(\"step\") + 12,\n",
    ")\n",
    "pred_events = pl.concat([pred_events, _pred_events]).sort(\"step\")\n",
    "\n",
    "print(pred_events)\n",
    "score = event_detection_ap(target_events.to_pandas(), pred_events.to_pandas())\n",
    "print(f\"score:{score}\")"
   ]
  },
  {
   "cell_type": "code",
   "execution_count": 14,
   "metadata": {},
   "outputs": [
    {
     "name": "stdout",
     "output_type": "stream",
     "text": [
      "shape: (8, 6)\n",
      "┌──────────────┬───────┬────────┬───────┬──────────────────────────┬───────┐\n",
      "│ series_id    ┆ night ┆ event  ┆ step  ┆ timestamp                ┆ score │\n",
      "│ ---          ┆ ---   ┆ ---    ┆ ---   ┆ ---                      ┆ ---   │\n",
      "│ str          ┆ i64   ┆ str    ┆ i64   ┆ str                      ┆ f64   │\n",
      "╞══════════════╪═══════╪════════╪═══════╪══════════════════════════╪═══════╡\n",
      "│ 7476c0bd18d2 ┆ 4     ┆ onset  ┆ 56340 ┆ 2019-03-02T23:30:00-0500 ┆ 0.5   │\n",
      "│ 7476c0bd18d2 ┆ 4     ┆ onset  ┆ 56352 ┆ 2019-03-02T23:30:00-0500 ┆ 0.6   │\n",
      "│ 7476c0bd18d2 ┆ 4     ┆ wakeup ┆ 62412 ┆ 2019-03-03T07:56:00-0500 ┆ 0.5   │\n",
      "│ 7476c0bd18d2 ┆ 4     ┆ wakeup ┆ 62424 ┆ 2019-03-03T07:56:00-0500 ┆ 0.6   │\n",
      "│ 7476c0bd18d2 ┆ 5     ┆ onset  ┆ 73836 ┆ 2019-03-03T23:48:00-0500 ┆ 0.5   │\n",
      "│ 7476c0bd18d2 ┆ 5     ┆ onset  ┆ 73848 ┆ 2019-03-03T23:48:00-0500 ┆ 0.6   │\n",
      "│ 7476c0bd18d2 ┆ 5     ┆ wakeup ┆ 75348 ┆ 2019-03-04T01:54:00-0500 ┆ 0.5   │\n",
      "│ 7476c0bd18d2 ┆ 5     ┆ wakeup ┆ 75360 ┆ 2019-03-04T01:54:00-0500 ┆ 0.6   │\n",
      "└──────────────┴───────┴────────┴───────┴──────────────────────────┴───────┘\n",
      "score:0.95\n"
     ]
    }
   ],
   "source": [
    "# 交互になっていない場合\n",
    "# → scoreが高い方が採用されるので特に交互になる必要はない\n",
    "pred_events = target_events.clone()\n",
    "pred_events = pred_events.with_columns(\n",
    "    pl.lit(0.5).alias(\"score\"),\n",
    ")\n",
    "_pred_events = pred_events.with_columns(\n",
    "    pl.col(\"score\") * 1.2,\n",
    "    pl.col(\"step\") + 12,\n",
    ")\n",
    "pred_events = pl.concat([pred_events, _pred_events]).sort(\"step\")\n",
    "\n",
    "print(pred_events)\n",
    "score = event_detection_ap(target_events.to_pandas(), pred_events.to_pandas())\n",
    "print(f\"score:{score}\")"
   ]
  },
  {
   "cell_type": "code",
   "execution_count": 15,
   "metadata": {},
   "outputs": [
    {
     "name": "stdout",
     "output_type": "stream",
     "text": [
      "shape: (8, 6)\n",
      "┌──────────────┬───────┬────────┬───────┬──────────────────────────┬───────┐\n",
      "│ series_id    ┆ night ┆ event  ┆ step  ┆ timestamp                ┆ score │\n",
      "│ ---          ┆ ---   ┆ ---    ┆ ---   ┆ ---                      ┆ ---   │\n",
      "│ str          ┆ i64   ┆ str    ┆ i64   ┆ str                      ┆ f64   │\n",
      "╞══════════════╪═══════╪════════╪═══════╪══════════════════════════╪═══════╡\n",
      "│ 7476c0bd18d2 ┆ 4     ┆ onset  ┆ 56340 ┆ 2019-03-02T23:30:00-0500 ┆ 0.5   │\n",
      "│ 7476c0bd18d2 ┆ 4     ┆ onset  ┆ 56352 ┆ 2019-03-02T23:30:00-0500 ┆ 0.6   │\n",
      "│ 7476c0bd18d2 ┆ 4     ┆ wakeup ┆ 62412 ┆ 2019-03-03T07:56:00-0500 ┆ 0.5   │\n",
      "│ 7476c0bd18d2 ┆ 4     ┆ onset  ┆ 62424 ┆ 2019-03-03T07:56:00-0500 ┆ 0.6   │\n",
      "│ 7476c0bd18d2 ┆ 5     ┆ onset  ┆ 73836 ┆ 2019-03-03T23:48:00-0500 ┆ 0.5   │\n",
      "│ 7476c0bd18d2 ┆ 5     ┆ onset  ┆ 73848 ┆ 2019-03-03T23:48:00-0500 ┆ 0.6   │\n",
      "│ 7476c0bd18d2 ┆ 5     ┆ wakeup ┆ 75348 ┆ 2019-03-04T01:54:00-0500 ┆ 0.5   │\n",
      "│ 7476c0bd18d2 ┆ 5     ┆ onset  ┆ 75360 ┆ 2019-03-04T01:54:00-0500 ┆ 0.6   │\n",
      "└──────────────┴───────┴────────┴───────┴──────────────────────────┴───────┘\n",
      "score:0.7416666666666667\n"
     ]
    }
   ],
   "source": [
    "# wakeup付近にscoreの高いonsetがある場合 → 悪い影響がある\n",
    "pred_events = target_events.clone()\n",
    "pred_events = pred_events.with_columns(\n",
    "    pl.lit(0.5).alias(\"score\"),\n",
    ")\n",
    "_pred_events = pred_events.with_columns(\n",
    "    pl.lit(\"onset\").alias(\"event\"),\n",
    "    pl.col(\"score\") * 1.2,\n",
    "    pl.col(\"step\") + 12,\n",
    ")\n",
    "pred_events = pl.concat([pred_events, _pred_events]).sort(\"step\")\n",
    "\n",
    "print(pred_events)\n",
    "score = event_detection_ap(target_events.to_pandas(), pred_events.to_pandas())\n",
    "print(f\"score:{score}\")"
   ]
  },
  {
   "cell_type": "code",
   "execution_count": 16,
   "metadata": {},
   "outputs": [
    {
     "name": "stdout",
     "output_type": "stream",
     "text": [
      "shape: (8, 6)\n",
      "┌──────────────┬───────┬────────┬───────┬──────────────────────────┬───────┐\n",
      "│ series_id    ┆ night ┆ event  ┆ step  ┆ timestamp                ┆ score │\n",
      "│ ---          ┆ ---   ┆ ---    ┆ ---   ┆ ---                      ┆ ---   │\n",
      "│ str          ┆ i64   ┆ str    ┆ i64   ┆ str                      ┆ f64   │\n",
      "╞══════════════╪═══════╪════════╪═══════╪══════════════════════════╪═══════╡\n",
      "│ 7476c0bd18d2 ┆ 4     ┆ onset  ┆ 56340 ┆ 2019-03-02T23:30:00-0500 ┆ 0.5   │\n",
      "│ 7476c0bd18d2 ┆ 4     ┆ onset  ┆ 56352 ┆ 2019-03-02T23:30:00-0500 ┆ 0.4   │\n",
      "│ 7476c0bd18d2 ┆ 4     ┆ wakeup ┆ 62412 ┆ 2019-03-03T07:56:00-0500 ┆ 0.5   │\n",
      "│ 7476c0bd18d2 ┆ 4     ┆ onset  ┆ 62424 ┆ 2019-03-03T07:56:00-0500 ┆ 0.4   │\n",
      "│ 7476c0bd18d2 ┆ 5     ┆ onset  ┆ 73836 ┆ 2019-03-03T23:48:00-0500 ┆ 0.5   │\n",
      "│ 7476c0bd18d2 ┆ 5     ┆ onset  ┆ 73848 ┆ 2019-03-03T23:48:00-0500 ┆ 0.4   │\n",
      "│ 7476c0bd18d2 ┆ 5     ┆ wakeup ┆ 75348 ┆ 2019-03-04T01:54:00-0500 ┆ 0.5   │\n",
      "│ 7476c0bd18d2 ┆ 5     ┆ onset  ┆ 75360 ┆ 2019-03-04T01:54:00-0500 ┆ 0.4   │\n",
      "└──────────────┴───────┴────────┴───────┴──────────────────────────┴───────┘\n",
      "score:1.0\n"
     ]
    }
   ],
   "source": [
    "# wakeup付近にscoreの低いonsetがある場合 → 問題ない\n",
    "pred_events = target_events.clone()\n",
    "pred_events = pred_events.with_columns(\n",
    "    pl.lit(0.5).alias(\"score\"),\n",
    ")\n",
    "_pred_events = pred_events.with_columns(\n",
    "    pl.lit(\"onset\").alias(\"event\"),\n",
    "    pl.col(\"score\") * 0.8,\n",
    "    pl.col(\"step\") + 12,\n",
    ")\n",
    "pred_events = pl.concat([pred_events, _pred_events]).sort(\"step\")\n",
    "\n",
    "print(pred_events)\n",
    "score = event_detection_ap(target_events.to_pandas(), pred_events.to_pandas())\n",
    "print(f\"score:{score}\")"
   ]
  },
  {
   "cell_type": "code",
   "execution_count": null,
   "metadata": {},
   "outputs": [],
   "source": []
  }
 ],
 "metadata": {
  "kernelspec": {
   "display_name": ".venv",
   "language": "python",
   "name": "python3"
  },
  "language_info": {
   "codemirror_mode": {
    "name": "ipython",
    "version": 3
   },
   "file_extension": ".py",
   "mimetype": "text/x-python",
   "name": "python",
   "nbconvert_exporter": "python",
   "pygments_lexer": "ipython3",
   "version": "3.10.11"
  }
 },
 "nbformat": 4,
 "nbformat_minor": 2
}
