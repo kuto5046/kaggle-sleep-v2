{
 "cells": [
  {
   "cell_type": "code",
   "execution_count": 1,
   "metadata": {},
   "outputs": [
    {
     "data": {
      "text/html": [
       "\n",
       "                <script type=\"application/javascript\" id=\"jupyter_black\">\n",
       "                (function() {\n",
       "                    if (window.IPython === undefined) {\n",
       "                        return\n",
       "                    }\n",
       "                    var msg = \"WARNING: it looks like you might have loaded \" +\n",
       "                        \"jupyter_black in a non-lab notebook with \" +\n",
       "                        \"`is_lab=True`. Please double check, and if \" +\n",
       "                        \"loading with `%load_ext` please review the README!\"\n",
       "                    console.log(msg)\n",
       "                    alert(msg)\n",
       "                })()\n",
       "                </script>\n",
       "                "
      ],
      "text/plain": [
       "<IPython.core.display.HTML object>"
      ]
     },
     "metadata": {},
     "output_type": "display_data"
    }
   ],
   "source": [
    "from pathlib import Path\n",
    "\n",
    "import jupyter_black\n",
    "import numpy as np\n",
    "import optuna\n",
    "import pandas as pd\n",
    "import polars as pl\n",
    "import seaborn as sns\n",
    "from hydra import compose\n",
    "from hydra import initialize\n",
    "from hydra.core.global_hydra import GlobalHydra\n",
    "\n",
    "from src.utils.metrics import event_detection_ap\n",
    "from src.utils.post_process import post_process_for_asleep\n",
    "from src.utils.post_process import post_process_for_seg\n",
    "\n",
    "jupyter_black.load()\n",
    "# plt.style.use(\"ggplot\")\n",
    "sns.set()\n",
    "\n",
    "%load_ext autoreload\n",
    "%autoreload 2\n",
    "\n",
    "EXP_NAME = \"exp077\"\n",
    "RUN_NAME = \"run2\"\n",
    "RESULT_DIR = Path(\"../output/train\") / EXP_NAME / RUN_NAME\n",
    "\n",
    "\n",
    "def load_config(result_dir: Path):\n",
    "    # clear previous initialization\n",
    "    GlobalHydra.instance().clear()\n",
    "\n",
    "    # initialize hydra\n",
    "    config_path = result_dir / \".hydra\"\n",
    "    initialize(config_path=config_path.as_posix())\n",
    "    # load the config\n",
    "    cfg = compose(config_name=\"config\")\n",
    "\n",
    "    return cfg"
   ]
  },
  {
   "cell_type": "code",
   "execution_count": 2,
   "metadata": {},
   "outputs": [
    {
     "name": "stderr",
     "output_type": "stream",
     "text": [
      "/tmp/ipykernel_331215/529260011.py:35: UserWarning: \n",
      "The version_base parameter is not specified.\n",
      "Please specify a compatability version level, or None.\n",
      "Will assume defaults for version 1.1\n",
      "  initialize(config_path=config_path.as_posix())\n"
     ]
    }
   ],
   "source": [
    "cfg = load_config(RESULT_DIR)\n",
    "# cfg.dir.data_dir = (\n",
    "#     \"/home/kuto/kaggle/kaggle-sleep-v2/data/child-mind-institute-detect-sleep-states\"\n",
    "# )\n",
    "preds = np.load(RESULT_DIR / \"preds.npy\")\n",
    "labels = np.load(RESULT_DIR / \"labels.npy\")\n",
    "keys = np.load(RESULT_DIR / \"keys.npy\")\n",
    "\n",
    "gt_df = pd.read_csv(Path(cfg.dir.data_dir) / \"train_events.csv\")\n",
    "gt_df = gt_df[gt_df[\"series_id\"].isin(cfg.split.valid_series_ids)].dropna().reset_index(drop=True)"
   ]
  },
  {
   "cell_type": "code",
   "execution_count": 3,
   "metadata": {},
   "outputs": [
    {
     "name": "stdout",
     "output_type": "stream",
     "text": [
      "/home/kuto/kaggle/kaggle-sleep-v2/output/train/exp077/run2\n"
     ]
    }
   ],
   "source": [
    "%cd {RESULT_DIR}"
   ]
  },
  {
   "cell_type": "code",
   "execution_count": 20,
   "metadata": {},
   "outputs": [],
   "source": [
    "cfg.post_process.score_th = 0.005\n",
    "cfg.post_process.distance = 40\n",
    "cfg.post_process.low_pass_filter_hour = 3"
   ]
  },
  {
   "cell_type": "code",
   "execution_count": 21,
   "metadata": {},
   "outputs": [],
   "source": [
    "preds = np.load(\"preds.npy\")\n",
    "# labels = np.load(\"labels.npy\")\n",
    "keys = np.load(\"keys.npy\")\n",
    "\n",
    "gt_df = pd.read_csv(Path(cfg.dir.data_dir) / \"train_events.csv\")\n",
    "gt_df = gt_df[gt_df[\"series_id\"].isin(cfg.split.valid_series_ids)].dropna().reset_index(drop=True)"
   ]
  },
  {
   "cell_type": "markdown",
   "metadata": {},
   "source": [
    "### ピーク検出による評価"
   ]
  },
  {
   "cell_type": "code",
   "execution_count": 22,
   "metadata": {},
   "outputs": [
    {
     "data": {
      "text/plain": [
       "0.7651407082864914"
      ]
     },
     "execution_count": 22,
     "metadata": {},
     "output_type": "execute_result"
    }
   ],
   "source": [
    "pred_df1: pl.DataFrame = post_process_for_seg(\n",
    "    keys,\n",
    "    preds[:, :, [1, 2]],\n",
    "    score_th=cfg.post_process.score_th,\n",
    "    distance=cfg.post_process.distance,\n",
    "    low_pass_filter_hour=cfg.post_process.low_pass_filter_hour,\n",
    ")\n",
    "score1 = event_detection_ap(gt_df, pred_df1.to_pandas())\n",
    "score1"
   ]
  },
  {
   "cell_type": "markdown",
   "metadata": {},
   "source": [
    "### 睡眠検出による評価"
   ]
  },
  {
   "cell_type": "code",
   "execution_count": 7,
   "metadata": {},
   "outputs": [
    {
     "data": {
      "text/plain": [
       "0.6867250304362296"
      ]
     },
     "execution_count": 7,
     "metadata": {},
     "output_type": "execute_result"
    }
   ],
   "source": [
    "pred_df2: pl.DataFrame = post_process_for_asleep(\n",
    "    keys,\n",
    "    preds[:, :, [0]],\n",
    "    score_thr=0.5,\n",
    ")\n",
    "score2 = event_detection_ap(gt_df, pred_df2.to_pandas())\n",
    "score2"
   ]
  },
  {
   "cell_type": "markdown",
   "metadata": {},
   "source": [
    "### 2つを組み合わせる"
   ]
  },
  {
   "cell_type": "code",
   "execution_count": 7,
   "metadata": {},
   "outputs": [],
   "source": [
    "def min_max_normalize(_df, col=\"pred\"):\n",
    "    df = _df.clone()\n",
    "    df = df.with_columns(\n",
    "        (pl.col(col) - pl.col(col).min()) / (pl.col(col).max() - pl.col(col).min())\n",
    "    )\n",
    "    return df"
   ]
  },
  {
   "cell_type": "code",
   "execution_count": 9,
   "metadata": {},
   "outputs": [],
   "source": [
    "# pred_df_norm1 = min_max_normalize(pred_df1, \"score\")\n",
    "# pred_df_norm2 = min_max_normalize(pred_df2, \"score\")\n",
    "# pred_df_norm2 = pred_df_norm2.with_columns(pl.col(\"score\") * 0.1)\n",
    "\n",
    "# pred_df = pl.concat([pred_df_norm1, pred_df_norm2])\n",
    "# pred_df = (\n",
    "#     pred_df.group_by([\"series_id\", \"step\", \"event\"])\n",
    "#     .agg(pl.mean(\"score\"))\n",
    "#     .sort([\"series_id\", \"step\"])\n",
    "# )\n",
    "# event_detection_ap(gt_df, pred_df.to_pandas())"
   ]
  },
  {
   "cell_type": "code",
   "execution_count": 10,
   "metadata": {},
   "outputs": [
    {
     "name": "stderr",
     "output_type": "stream",
     "text": [
      "[I 2023-11-10 21:16:27,179] A new study created in memory with name: no-name-c04e272d-47b9-4419-bb3e-2f9c7fa5bbbd\n",
      "[I 2023-11-10 21:16:30,322] Trial 0 finished with value: 0.6946748626578277 and parameters: {'score_th': 0.25}. Best is trial 0 with value: 0.6946748626578277.\n",
      "[I 2023-11-10 21:16:33,262] Trial 1 finished with value: 0.6448498624812358 and parameters: {'score_th': 0.35}. Best is trial 0 with value: 0.6946748626578277.\n",
      "[I 2023-11-10 21:16:36,378] Trial 2 finished with value: 0.7468694646371383 and parameters: {'score_th': 0.1}. Best is trial 2 with value: 0.7468694646371383.\n",
      "[I 2023-11-10 21:16:39,415] Trial 3 finished with value: 0.6448498624812358 and parameters: {'score_th': 0.35}. Best is trial 2 with value: 0.7468694646371383.\n",
      "[I 2023-11-10 21:16:42,463] Trial 4 finished with value: 0.6723935981088003 and parameters: {'score_th': 0.30000000000000004}. Best is trial 2 with value: 0.7468694646371383.\n",
      "[I 2023-11-10 21:16:45,562] Trial 5 finished with value: 0.7323118398189046 and parameters: {'score_th': 0.15000000000000002}. Best is trial 2 with value: 0.7468694646371383.\n",
      "[I 2023-11-10 21:16:48,504] Trial 6 finished with value: 0.6003580274605032 and parameters: {'score_th': 0.4}. Best is trial 2 with value: 0.7468694646371383.\n",
      "[I 2023-11-10 21:16:51,555] Trial 7 finished with value: 0.6723935981088003 and parameters: {'score_th': 0.30000000000000004}. Best is trial 2 with value: 0.7468694646371383.\n",
      "[I 2023-11-10 21:16:54,582] Trial 8 finished with value: 0.5409040788344749 and parameters: {'score_th': 0.45000000000000007}. Best is trial 2 with value: 0.7468694646371383.\n",
      "[I 2023-11-10 21:16:57,683] Trial 9 finished with value: 0.7323118398189046 and parameters: {'score_th': 0.15000000000000002}. Best is trial 2 with value: 0.7468694646371383.\n",
      "[I 2023-11-10 21:17:00,720] Trial 10 finished with value: 0.7468694646371383 and parameters: {'score_th': 0.1}. Best is trial 2 with value: 0.7468694646371383.\n",
      "[I 2023-11-10 21:17:03,844] Trial 11 finished with value: 0.7468694646371383 and parameters: {'score_th': 0.1}. Best is trial 2 with value: 0.7468694646371383.\n",
      "[I 2023-11-10 21:17:06,924] Trial 12 finished with value: 0.7120956956334216 and parameters: {'score_th': 0.2}. Best is trial 2 with value: 0.7468694646371383.\n",
      "[I 2023-11-10 21:17:10,054] Trial 13 finished with value: 0.7468694646371383 and parameters: {'score_th': 0.1}. Best is trial 2 with value: 0.7468694646371383.\n",
      "[I 2023-11-10 21:17:13,140] Trial 14 finished with value: 0.7120956956334216 and parameters: {'score_th': 0.2}. Best is trial 2 with value: 0.7468694646371383.\n",
      "[I 2023-11-10 21:17:16,156] Trial 15 finished with value: 0.4573507259306527 and parameters: {'score_th': 0.5}. Best is trial 2 with value: 0.7468694646371383.\n",
      "[I 2023-11-10 21:17:19,194] Trial 16 finished with value: 0.7468694646371383 and parameters: {'score_th': 0.1}. Best is trial 2 with value: 0.7468694646371383.\n",
      "[I 2023-11-10 21:17:22,276] Trial 17 finished with value: 0.7120956956334216 and parameters: {'score_th': 0.2}. Best is trial 2 with value: 0.7468694646371383.\n",
      "[I 2023-11-10 21:17:25,388] Trial 18 finished with value: 0.7323118398189046 and parameters: {'score_th': 0.15000000000000002}. Best is trial 2 with value: 0.7468694646371383.\n",
      "[I 2023-11-10 21:17:28,471] Trial 19 finished with value: 0.6946748626578277 and parameters: {'score_th': 0.25}. Best is trial 2 with value: 0.7468694646371383.\n"
     ]
    },
    {
     "name": "stdout",
     "output_type": "stream",
     "text": [
      "{'score_th': 0.1}\n"
     ]
    }
   ],
   "source": [
    "def objective(trial: optuna.Trial):\n",
    "    score_th = trial.suggest_float(\"score_th\", 0.1, 0.5, step=0.05)  # 0.005\n",
    "    distance = 70  # trial.suggest_int(\"distance\", 1, 200)\n",
    "    hour = 3  # trial.suggest_int(\"hour\", 1, 5)\n",
    "\n",
    "    pred_df: pl.DataFrame = post_process_for_seg(\n",
    "        keys, preds[:, :, [1, 2]], score_th=score_th, distance=distance, low_pass_filter_hour=hour\n",
    "    )\n",
    "    score = event_detection_ap(gt_df, pred_df.to_pandas())\n",
    "\n",
    "    return score\n",
    "\n",
    "\n",
    "study = optuna.create_study(direction=\"maximize\")\n",
    "study.optimize(objective, n_trials=20)\n",
    "\n",
    "print(study.best_params)"
   ]
  },
  {
   "cell_type": "markdown",
   "metadata": {},
   "source": [
    "### 睡眠ピークと真値はどちらにずれているか？"
   ]
  }
 ],
 "metadata": {
  "kernelspec": {
   "display_name": ".venv",
   "language": "python",
   "name": "python3"
  },
  "language_info": {
   "codemirror_mode": {
    "name": "ipython",
    "version": 3
   },
   "file_extension": ".py",
   "mimetype": "text/x-python",
   "name": "python",
   "nbconvert_exporter": "python",
   "pygments_lexer": "ipython3",
   "version": "3.10.11"
  },
  "orig_nbformat": 4
 },
 "nbformat": 4,
 "nbformat_minor": 2
}
