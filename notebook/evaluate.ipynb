{
 "cells": [
  {
   "cell_type": "code",
   "execution_count": 1,
   "metadata": {},
   "outputs": [
    {
     "data": {
      "text/html": [
       "\n",
       "                <script type=\"application/javascript\" id=\"jupyter_black\">\n",
       "                (function() {\n",
       "                    if (window.IPython === undefined) {\n",
       "                        return\n",
       "                    }\n",
       "                    var msg = \"WARNING: it looks like you might have loaded \" +\n",
       "                        \"jupyter_black in a non-lab notebook with \" +\n",
       "                        \"`is_lab=True`. Please double check, and if \" +\n",
       "                        \"loading with `%load_ext` please review the README!\"\n",
       "                    console.log(msg)\n",
       "                    alert(msg)\n",
       "                })()\n",
       "                </script>\n",
       "                "
      ],
      "text/plain": [
       "<IPython.core.display.HTML object>"
      ]
     },
     "metadata": {},
     "output_type": "display_data"
    }
   ],
   "source": [
    "from pathlib import Path\n",
    "\n",
    "import jupyter_black\n",
    "import numpy as np\n",
    "import optuna\n",
    "import pandas as pd\n",
    "import polars as pl\n",
    "import seaborn as sns\n",
    "from hydra import compose\n",
    "from hydra import initialize\n",
    "from hydra.core.global_hydra import GlobalHydra\n",
    "\n",
    "from src.utils.metrics import event_detection_ap\n",
    "from src.utils.post_process import post_process_for_asleep_and_event\n",
    "from src.utils.post_process import post_process_for_seg\n",
    "\n",
    "jupyter_black.load()\n",
    "# plt.style.use(\"ggplot\")\n",
    "sns.set()\n",
    "\n",
    "%load_ext autoreload\n",
    "%autoreload 2\n",
    "\n",
    "\n",
    "def load_config(result_dir: Path):\n",
    "    # clear previous initialization\n",
    "    GlobalHydra.instance().clear()\n",
    "\n",
    "    # initialize hydra\n",
    "    config_path = result_dir / \".hydra\"\n",
    "    initialize(config_path=config_path.as_posix())\n",
    "    # load the config\n",
    "    cfg = compose(config_name=\"config\")\n",
    "\n",
    "    return cfg"
   ]
  },
  {
   "cell_type": "code",
   "execution_count": 2,
   "metadata": {},
   "outputs": [
    {
     "name": "stderr",
     "output_type": "stream",
     "text": [
      "/tmp/ipykernel_1080163/212143407.py:31: UserWarning: \n",
      "The version_base parameter is not specified.\n",
      "Please specify a compatability version level, or None.\n",
      "Will assume defaults for version 1.1\n",
      "  initialize(config_path=config_path.as_posix())\n",
      "/tmp/ipykernel_1080163/212143407.py:31: UserWarning: \n",
      "The version_base parameter is not specified.\n",
      "Please specify a compatability version level, or None.\n",
      "Will assume defaults for version 1.1\n",
      "  initialize(config_path=config_path.as_posix())\n"
     ]
    }
   ],
   "source": [
    "EXP_NAME = \"exp125\"\n",
    "RUN_NAMES = [\"run0\", \"run1\", \"run2\", \"run3\", \"run4\"]\n",
    "all_preds = []\n",
    "all_keys = []\n",
    "all_labels = []\n",
    "for run_name in RUN_NAMES:\n",
    "    RESULT_DIR = Path(\"../output/train\") / EXP_NAME / run_name\n",
    "    cfg = load_config(RESULT_DIR)\n",
    "    preds = np.load(RESULT_DIR / \"preds.npy\")\n",
    "    labels = np.load(RESULT_DIR / \"labels.npy\")\n",
    "    keys = np.load(RESULT_DIR / \"keys.npy\")\n",
    "    all_preds.append(preds)\n",
    "    all_keys.append(keys)\n",
    "    all_labels.append(labels)\n",
    "\n",
    "all_preds = np.concatenate(all_preds)\n",
    "all_keys = np.concatenate(all_keys)\n",
    "all_labels = np.concatenate(all_labels)\n",
    "gt_df = pd.read_csv(Path(cfg.dir.data_dir) / \"train_events.csv\").dropna().reset_index(drop=True)"
   ]
  },
  {
   "cell_type": "code",
   "execution_count": 29,
   "metadata": {},
   "outputs": [],
   "source": [
    "cfg.post_process.score_th = 0.001\n",
    "cfg.post_process.distance = 70\n",
    "cfg.post_process.low_pass_filter_hour = 5"
   ]
  },
  {
   "cell_type": "markdown",
   "metadata": {},
   "source": [
    "### ピーク検出による評価"
   ]
  },
  {
   "cell_type": "code",
   "execution_count": 31,
   "metadata": {},
   "outputs": [
    {
     "data": {
      "text/plain": [
       "0.7862887979283817"
      ]
     },
     "execution_count": 31,
     "metadata": {},
     "output_type": "execute_result"
    }
   ],
   "source": [
    "pred_df1: pl.DataFrame = post_process_for_seg(\n",
    "    all_keys,\n",
    "    all_preds[:, :, [1, 2]],\n",
    "    score_th=cfg.post_process.score_th,\n",
    "    distance=cfg.post_process.distance,\n",
    "    low_pass_filter_hour=cfg.post_process.low_pass_filter_hour,\n",
    ")\n",
    "score1 = event_detection_ap(\n",
    "    gt_df.query(f'series_id in {pred_df1[\"series_id\"].unique().to_list()}'), pred_df1.to_pandas()\n",
    ")\n",
    "score1"
   ]
  },
  {
   "cell_type": "code",
   "execution_count": null,
   "metadata": {},
   "outputs": [],
   "source": [
    "0.7862887979283817\n",
    "\n",
    "0.785036"
   ]
  },
  {
   "cell_type": "markdown",
   "metadata": {},
   "source": [
    "### 睡眠検出による評価"
   ]
  },
  {
   "cell_type": "code",
   "execution_count": 5,
   "metadata": {},
   "outputs": [],
   "source": [
    "# cfg.post_process.score_th = 0.005\n",
    "# cfg.post_process.distance = 40\n",
    "# cfg.post_process.low_pass_filter_hour = 3"
   ]
  },
  {
   "cell_type": "code",
   "execution_count": 7,
   "metadata": {},
   "outputs": [],
   "source": [
    "# pred_df2: pl.DataFrame = post_process_for_asleep(\n",
    "#     all_keys,\n",
    "#     all_preds[:, :, [0]],\n",
    "#     score_th=cfg.post_process.score_th,\n",
    "#     distance=cfg.post_process.distance,\n",
    "#     window_size=500,\n",
    "#     low_pass_filter_hour=cfg.post_process.low_pass_filter_hour,\n",
    "# )\n",
    "# score2 = event_detection_ap(gt_df, pred_df2.to_pandas())\n",
    "# score2"
   ]
  },
  {
   "cell_type": "markdown",
   "metadata": {},
   "source": [
    "### sleepをeventに変換して評価"
   ]
  },
  {
   "cell_type": "code",
   "execution_count": 6,
   "metadata": {},
   "outputs": [
    {
     "data": {
      "text/plain": [
       "0.7156882860995255"
      ]
     },
     "execution_count": 6,
     "metadata": {},
     "output_type": "execute_result"
    }
   ],
   "source": [
    "from src.utils.post_process import post_process_asleep_to_event_v2\n",
    "\n",
    "window_size = 500\n",
    "all_preds2 = post_process_asleep_to_event_v2(all_preds, all_keys, window_size)\n",
    "pred_df1: pl.DataFrame = post_process_for_seg(\n",
    "    all_keys,\n",
    "    all_preds2[:, :, [1, 2]],\n",
    "    score_th=cfg.post_process.score_th,\n",
    "    distance=cfg.post_process.distance,\n",
    "    low_pass_filter_hour=cfg.post_process.low_pass_filter_hour,\n",
    ")\n",
    "score3 = event_detection_ap(gt_df, pred_df1.to_pandas())\n",
    "score3"
   ]
  },
  {
   "cell_type": "markdown",
   "metadata": {},
   "source": [
    "### 2つを組み合わせる"
   ]
  },
  {
   "cell_type": "code",
   "execution_count": 6,
   "metadata": {},
   "outputs": [],
   "source": [
    "# pred_df3: pl.DataFrame = post_process_for_asleep_and_event(\n",
    "#     all_keys,\n",
    "#     all_preds,\n",
    "#     score_th=cfg.post_process.score_th,\n",
    "#     distance=cfg.post_process.distance,\n",
    "#     window_size=500,\n",
    "#     low_pass_filter_hour=cfg.post_process.low_pass_filter_hour,\n",
    "#     event_weight=0.8,\n",
    "# )\n",
    "# score3 = event_detection_ap(gt_df, pred_df3.to_pandas())\n",
    "# score3"
   ]
  },
  {
   "cell_type": "markdown",
   "metadata": {},
   "source": [
    "### 予測値のみ統合して通常の後処理をかける（アンサンブルしやすくするため)"
   ]
  },
  {
   "cell_type": "code",
   "execution_count": 7,
   "metadata": {},
   "outputs": [],
   "source": [
    "from src.utils.post_process import post_process_asleep_to_event\n",
    "\n",
    "window_size = 500\n",
    "event_weight = 0.7\n",
    "all_preds2 = post_process_asleep_to_event(all_preds, all_keys, window_size, event_weight)"
   ]
  },
  {
   "cell_type": "code",
   "execution_count": 8,
   "metadata": {},
   "outputs": [
    {
     "data": {
      "text/plain": [
       "0.7695211646297653"
      ]
     },
     "execution_count": 8,
     "metadata": {},
     "output_type": "execute_result"
    }
   ],
   "source": [
    "pred_df4: pl.DataFrame = post_process_for_seg(\n",
    "    all_keys,\n",
    "    all_preds2[:, :, [1, 2]],\n",
    "    score_th=cfg.post_process.score_th,\n",
    "    distance=cfg.post_process.distance,\n",
    "    low_pass_filter_hour=cfg.post_process.low_pass_filter_hour,\n",
    ")\n",
    "score4 = event_detection_ap(gt_df, pred_df4.to_pandas())\n",
    "score4"
   ]
  },
  {
   "cell_type": "markdown",
   "metadata": {},
   "source": [
    "### チューニング"
   ]
  },
  {
   "cell_type": "code",
   "execution_count": null,
   "metadata": {},
   "outputs": [],
   "source": [
    "def objective(trial: optuna.Trial):\n",
    "    score_th = trial.suggest_float(\"score_th\", 0.001, 0.01, step=0.001)  # 0.005\n",
    "    # distance = trial.suggest_int(\"distance\", 10, 100, step=10)\n",
    "    hour = trial.suggest_int(\"hour\", 1, 5)\n",
    "    # window_size = trial.suggest_int(\"window_size\", 100, 500, step=50)\n",
    "    # weight = trial.suggest_float(\"weight\", 0.1, 0.9, step=0.1)\n",
    "   #  weights = [weight, 1 - weight]\n",
    "    pred_df: pl.DataFrame = post_process_for_asleep_and_event(\n",
    "        all_keys,\n",
    "        all_preds,\n",
    "        score_th=score_th,\n",
    "        distance=40,\n",
    "        window_size=500,\n",
    "        low_pass_filter_hour=hour,\n",
    "        event_weight=0.7,\n",
    "    )\n",
    "    score = event_detection_ap(gt_df, pred_df.to_pandas())\n",
    "\n",
    "    return score\n",
    "\n",
    "\n",
    "study = optuna.create_study(direction=\"maximize\")\n",
    "study.optimize(objective, n_trials=100)\n",
    "\n",
    "print(study.best_params)"
   ]
  },
  {
   "cell_type": "code",
   "execution_count": null,
   "metadata": {},
   "outputs": [],
   "source": [
    "print(study.best_params)"
   ]
  },
  {
   "cell_type": "markdown",
   "metadata": {},
   "source": [
    "{'score_th': 0.001, 'distance': 60, 'hour': 5, 'window_size': 500, 'weight': 0.9}. Best is trial 49 with value: 0.7476289447484639."
   ]
  },
  {
   "cell_type": "code",
   "execution_count": null,
   "metadata": {},
   "outputs": [],
   "source": []
  }
 ],
 "metadata": {
  "kernelspec": {
   "display_name": ".venv",
   "language": "python",
   "name": "python3"
  },
  "language_info": {
   "codemirror_mode": {
    "name": "ipython",
    "version": 3
   },
   "file_extension": ".py",
   "mimetype": "text/x-python",
   "name": "python",
   "nbconvert_exporter": "python",
   "pygments_lexer": "ipython3",
   "version": "3.10.11"
  },
  "orig_nbformat": 4
 },
 "nbformat": 4,
 "nbformat_minor": 2
}
