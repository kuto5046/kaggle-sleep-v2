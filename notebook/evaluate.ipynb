{
 "cells": [
  {
   "cell_type": "code",
   "execution_count": 58,
   "metadata": {},
   "outputs": [
    {
     "name": "stdout",
     "output_type": "stream",
     "text": [
      "The autoreload extension is already loaded. To reload it, use:\n",
      "  %reload_ext autoreload\n"
     ]
    }
   ],
   "source": [
    "from pathlib import Path\n",
    "\n",
    "import jupyter_black\n",
    "import numpy as np\n",
    "import optuna\n",
    "import pandas as pd\n",
    "import polars as pl\n",
    "import seaborn as sns\n",
    "from hydra import compose\n",
    "from hydra import initialize\n",
    "from hydra.core.global_hydra import GlobalHydra\n",
    "\n",
    "from src.utils.metrics import event_detection_ap\n",
    "from src.utils.post_process import post_process_for_asleep\n",
    "from src.utils.post_process import post_process_for_asleep_and_event\n",
    "from src.utils.post_process import post_process_for_seg\n",
    "\n",
    "jupyter_black.load()\n",
    "# plt.style.use(\"ggplot\")\n",
    "sns.set()\n",
    "\n",
    "%load_ext autoreload\n",
    "%autoreload 2\n",
    "\n",
    "\n",
    "def load_config(result_dir: Path):\n",
    "    # clear previous initialization\n",
    "    GlobalHydra.instance().clear()\n",
    "\n",
    "    # initialize hydra\n",
    "    config_path = result_dir / \".hydra\"\n",
    "    initialize(config_path=config_path.as_posix())\n",
    "    # load the config\n",
    "    cfg = compose(config_name=\"config\")\n",
    "\n",
    "    return cfg"
   ]
  },
  {
   "cell_type": "code",
   "execution_count": 141,
   "metadata": {},
   "outputs": [
    {
     "name": "stderr",
     "output_type": "stream",
     "text": [
      "/tmp/ipykernel_2969867/2687495645.py:30: UserWarning: \n",
      "The version_base parameter is not specified.\n",
      "Please specify a compatability version level, or None.\n",
      "Will assume defaults for version 1.1\n",
      "  initialize(config_path=config_path.as_posix())\n"
     ]
    }
   ],
   "source": [
    "EXP_NAME = \"exp090\"\n",
    "RUN_NAMES = [\"run0\", \"run1\", \"run2\", \"run3\", \"run4\"]\n",
    "all_preds = []\n",
    "all_keys = []\n",
    "all_labels = []\n",
    "for run_name in RUN_NAMES:\n",
    "    RESULT_DIR = Path(\"../output/train\") / EXP_NAME / run_name\n",
    "    cfg = load_config(RESULT_DIR)\n",
    "    preds = np.load(RESULT_DIR / \"preds.npy\")\n",
    "    labels = np.load(RESULT_DIR / \"labels.npy\")\n",
    "    keys = np.load(RESULT_DIR / \"keys.npy\")\n",
    "    all_preds.append(preds)\n",
    "    all_keys.append(keys)\n",
    "    all_labels.append(labels)\n",
    "\n",
    "all_preds = np.concatenate(all_preds)\n",
    "all_keys = np.concatenate(all_keys)\n",
    "all_labels = np.concatenate(all_labels)\n",
    "gt_df = pd.read_csv(Path(cfg.dir.data_dir) / \"train_events.csv\").dropna().reset_index(drop=True)\n",
    "# gt_df = gt_df[gt_df[\"series_id\"].isin(cfg.split.valid_series_ids)].dropna().reset_index(drop=True)"
   ]
  },
  {
   "cell_type": "code",
   "execution_count": 136,
   "metadata": {},
   "outputs": [],
   "source": [
    "cfg.post_process.score_th = 0.005\n",
    "cfg.post_process.distance = 40\n",
    "cfg.post_process.low_pass_filter_hour = 3"
   ]
  },
  {
   "cell_type": "markdown",
   "metadata": {},
   "source": [
    "### ピーク検出による評価"
   ]
  },
  {
   "cell_type": "code",
   "execution_count": 137,
   "metadata": {},
   "outputs": [
    {
     "data": {
      "text/plain": [
       "0.7532104941183857"
      ]
     },
     "execution_count": 137,
     "metadata": {},
     "output_type": "execute_result"
    }
   ],
   "source": [
    "pred_df1: pl.DataFrame = post_process_for_seg(\n",
    "    all_keys,\n",
    "    all_preds[:, :, [1, 2]],\n",
    "    score_th=cfg.post_process.score_th,\n",
    "    distance=cfg.post_process.distance,\n",
    "    low_pass_filter_hour=cfg.post_process.low_pass_filter_hour,\n",
    ")\n",
    "score1 = event_detection_ap(gt_df, pred_df1.to_pandas())\n",
    "score1"
   ]
  },
  {
   "cell_type": "markdown",
   "metadata": {},
   "source": [
    "### 睡眠検出による評価"
   ]
  },
  {
   "cell_type": "code",
   "execution_count": 138,
   "metadata": {},
   "outputs": [],
   "source": [
    "cfg.post_process.score_th = 0.005\n",
    "cfg.post_process.distance = 40\n",
    "cfg.post_process.low_pass_filter_hour = 3"
   ]
  },
  {
   "cell_type": "code",
   "execution_count": 139,
   "metadata": {},
   "outputs": [
    {
     "data": {
      "text/plain": [
       "0.692863085117281"
      ]
     },
     "execution_count": 139,
     "metadata": {},
     "output_type": "execute_result"
    }
   ],
   "source": [
    "# exp088: 0.7321 window=100\n",
    "# exp090: 0.6915 window=300\n",
    "\n",
    "pred_df2: pl.DataFrame = post_process_for_asleep(\n",
    "    all_keys,\n",
    "    all_preds[:, :, [0]],\n",
    "    score_th=cfg.post_process.score_th,\n",
    "    distance=cfg.post_process.distance,\n",
    "    window_size=500,\n",
    "    low_pass_filter_hour=cfg.post_process.low_pass_filter_hour,\n",
    ")\n",
    "score2 = event_detection_ap(gt_df, pred_df2.to_pandas())\n",
    "score2"
   ]
  },
  {
   "cell_type": "markdown",
   "metadata": {},
   "source": [
    "### 2つを組み合わせる"
   ]
  },
  {
   "cell_type": "code",
   "execution_count": 140,
   "metadata": {},
   "outputs": [
    {
     "data": {
      "text/plain": [
       "0.759687383885687"
      ]
     },
     "execution_count": 140,
     "metadata": {},
     "output_type": "execute_result"
    }
   ],
   "source": [
    "# 0.5: 0.7405259650258358\n",
    "\n",
    "pred_df3: pl.DataFrame = post_process_for_asleep_and_event(\n",
    "    all_keys,\n",
    "    all_preds,\n",
    "    score_th=cfg.post_process.score_th,\n",
    "    distance=cfg.post_process.distance,\n",
    "    window_size=500,\n",
    "    low_pass_filter_hour=cfg.post_process.low_pass_filter_hour,\n",
    "    event_weight=0.7,\n",
    ")\n",
    "score3 = event_detection_ap(gt_df, pred_df3.to_pandas())\n",
    "score3"
   ]
  },
  {
   "cell_type": "code",
   "execution_count": 67,
   "metadata": {},
   "outputs": [
    {
     "name": "stderr",
     "output_type": "stream",
     "text": [
      "[I 2023-11-19 21:50:09,197] A new study created in memory with name: no-name-82fdd53b-c75e-4c13-b620-5512b05bbf02\n",
      "[I 2023-11-19 21:50:50,766] Trial 0 finished with value: 0.7297852837260924 and parameters: {'score_th': 0.009000000000000001, 'distance': 90, 'hour': 3, 'window_size': 400, 'weight': 0.2}. Best is trial 0 with value: 0.7297852837260924.\n",
      "[I 2023-11-19 21:51:32,603] Trial 1 finished with value: 0.7342988769483512 and parameters: {'score_th': 0.005, 'distance': 60, 'hour': 4, 'window_size': 350, 'weight': 0.30000000000000004}. Best is trial 1 with value: 0.7342988769483512.\n",
      "[I 2023-11-19 21:52:15,900] Trial 2 finished with value: 0.7356610451333877 and parameters: {'score_th': 0.002, 'distance': 20, 'hour': 2, 'window_size': 250, 'weight': 0.30000000000000004}. Best is trial 2 with value: 0.7356610451333877.\n",
      "[I 2023-11-19 21:52:56,869] Trial 3 finished with value: 0.7370692417569704 and parameters: {'score_th': 0.01, 'distance': 70, 'hour': 5, 'window_size': 300, 'weight': 0.4}. Best is trial 3 with value: 0.7370692417569704.\n",
      "[I 2023-11-19 21:53:40,631] Trial 4 finished with value: 0.7358673533747666 and parameters: {'score_th': 0.001, 'distance': 30, 'hour': 2, 'window_size': 500, 'weight': 0.4}. Best is trial 3 with value: 0.7370692417569704.\n",
      "[I 2023-11-19 21:54:17,752] Trial 5 finished with value: 0.7407857715017901 and parameters: {'score_th': 0.008, 'distance': 70, 'hour': 4, 'window_size': 200, 'weight': 0.5}. Best is trial 5 with value: 0.7407857715017901.\n",
      "[I 2023-11-19 21:54:59,507] Trial 6 finished with value: 0.7294914372529921 and parameters: {'score_th': 0.009000000000000001, 'distance': 70, 'hour': 1, 'window_size': 450, 'weight': 0.2}. Best is trial 5 with value: 0.7407857715017901.\n",
      "[I 2023-11-19 21:55:40,911] Trial 7 finished with value: 0.7457217794913817 and parameters: {'score_th': 0.003, 'distance': 60, 'hour': 3, 'window_size': 200, 'weight': 0.8}. Best is trial 7 with value: 0.7457217794913817.\n",
      "[I 2023-11-19 21:56:20,170] Trial 8 finished with value: 0.744290812519472 and parameters: {'score_th': 0.004, 'distance': 100, 'hour': 5, 'window_size': 100, 'weight': 0.5}. Best is trial 7 with value: 0.7457217794913817.\n",
      "[I 2023-11-19 21:56:59,249] Trial 9 finished with value: 0.7414471373373672 and parameters: {'score_th': 0.001, 'distance': 100, 'hour': 5, 'window_size': 250, 'weight': 0.5}. Best is trial 7 with value: 0.7457217794913817.\n",
      "[I 2023-11-19 21:57:41,220] Trial 10 finished with value: 0.746151904491115 and parameters: {'score_th': 0.003, 'distance': 40, 'hour': 3, 'window_size': 100, 'weight': 0.9}. Best is trial 10 with value: 0.746151904491115.\n",
      "[I 2023-11-19 21:58:22,452] Trial 11 finished with value: 0.746151904491115 and parameters: {'score_th': 0.003, 'distance': 40, 'hour': 3, 'window_size': 100, 'weight': 0.9}. Best is trial 10 with value: 0.746151904491115.\n",
      "[I 2023-11-19 21:59:03,692] Trial 12 finished with value: 0.7429022832876172 and parameters: {'score_th': 0.006, 'distance': 40, 'hour': 2, 'window_size': 100, 'weight': 0.9}. Best is trial 10 with value: 0.746151904491115.\n",
      "[I 2023-11-19 21:59:45,218] Trial 13 finished with value: 0.7456741294978614 and parameters: {'score_th': 0.003, 'distance': 10, 'hour': 4, 'window_size': 150, 'weight': 0.7000000000000001}. Best is trial 10 with value: 0.746151904491115.\n",
      "[I 2023-11-19 22:00:26,849] Trial 14 finished with value: 0.7452130489453359 and parameters: {'score_th': 0.006, 'distance': 40, 'hour': 3, 'window_size': 100, 'weight': 0.7000000000000001}. Best is trial 10 with value: 0.746151904491115.\n",
      "[I 2023-11-19 22:01:08,648] Trial 15 finished with value: 0.7433781529948108 and parameters: {'score_th': 0.004, 'distance': 40, 'hour': 2, 'window_size': 150, 'weight': 0.9}. Best is trial 10 with value: 0.746151904491115.\n",
      "[I 2023-11-19 22:01:51,602] Trial 16 finished with value: 0.7426587837472602 and parameters: {'score_th': 0.003, 'distance': 50, 'hour': 1, 'window_size': 150, 'weight': 0.7000000000000001}. Best is trial 10 with value: 0.746151904491115.\n",
      "[I 2023-11-19 22:02:33,033] Trial 17 finished with value: 0.7449479978132074 and parameters: {'score_th': 0.005, 'distance': 20, 'hour': 4, 'window_size': 250, 'weight': 0.8}. Best is trial 10 with value: 0.746151904491115.\n",
      "[I 2023-11-19 22:03:14,473] Trial 18 finished with value: 0.743891260471835 and parameters: {'score_th': 0.007, 'distance': 30, 'hour': 3, 'window_size': 200, 'weight': 0.8}. Best is trial 10 with value: 0.746151904491115.\n",
      "[I 2023-11-19 22:03:57,295] Trial 19 finished with value: 0.7422426111666272 and parameters: {'score_th': 0.002, 'distance': 50, 'hour': 3, 'window_size': 350, 'weight': 0.6}. Best is trial 10 with value: 0.746151904491115.\n",
      "[I 2023-11-19 22:04:38,983] Trial 20 finished with value: 0.7415530551234375 and parameters: {'score_th': 0.004, 'distance': 10, 'hour': 2, 'window_size': 100, 'weight': 0.9}. Best is trial 10 with value: 0.746151904491115.\n",
      "[I 2023-11-19 22:05:19,997] Trial 21 finished with value: 0.7457217794913817 and parameters: {'score_th': 0.003, 'distance': 60, 'hour': 3, 'window_size': 200, 'weight': 0.8}. Best is trial 10 with value: 0.746151904491115.\n",
      "[I 2023-11-19 22:06:01,196] Trial 22 finished with value: 0.7475250446254913 and parameters: {'score_th': 0.002, 'distance': 80, 'hour': 4, 'window_size': 150, 'weight': 0.9}. Best is trial 22 with value: 0.7475250446254913.\n",
      "[I 2023-11-19 22:06:42,369] Trial 23 finished with value: 0.7475250446254913 and parameters: {'score_th': 0.002, 'distance': 80, 'hour': 4, 'window_size': 150, 'weight': 0.9}. Best is trial 22 with value: 0.7475250446254913.\n",
      "[I 2023-11-19 22:07:25,319] Trial 24 finished with value: 0.7475250446254913 and parameters: {'score_th': 0.002, 'distance': 80, 'hour': 4, 'window_size': 150, 'weight': 0.9}. Best is trial 22 with value: 0.7475250446254913.\n",
      "[I 2023-11-19 22:08:08,764] Trial 25 finished with value: 0.7463567977038998 and parameters: {'score_th': 0.001, 'distance': 80, 'hour': 4, 'window_size': 150, 'weight': 0.7000000000000001}. Best is trial 22 with value: 0.7475250446254913.\n",
      "[I 2023-11-19 22:08:50,219] Trial 26 finished with value: 0.7456057715591651 and parameters: {'score_th': 0.002, 'distance': 90, 'hour': 4, 'window_size': 300, 'weight': 0.8}. Best is trial 22 with value: 0.7475250446254913.\n",
      "[I 2023-11-19 22:09:35,576] Trial 27 finished with value: 0.7332355405759857 and parameters: {'score_th': 0.002, 'distance': 80, 'hour': 5, 'window_size': 150, 'weight': 0.1}. Best is trial 22 with value: 0.7475250446254913.\n",
      "[I 2023-11-19 22:10:20,912] Trial 28 finished with value: 0.7443380237104955 and parameters: {'score_th': 0.001, 'distance': 80, 'hour': 4, 'window_size': 200, 'weight': 0.6}. Best is trial 22 with value: 0.7475250446254913.\n",
      "[I 2023-11-19 22:11:03,186] Trial 29 finished with value: 0.7471996756624135 and parameters: {'score_th': 0.002, 'distance': 90, 'hour': 5, 'window_size': 300, 'weight': 0.9}. Best is trial 22 with value: 0.7475250446254913.\n",
      "[I 2023-11-19 22:11:45,775] Trial 30 finished with value: 0.7428342309152016 and parameters: {'score_th': 0.004, 'distance': 90, 'hour': 4, 'window_size': 250, 'weight': 0.6}. Best is trial 22 with value: 0.7475250446254913.\n",
      "[I 2023-11-19 22:12:28,135] Trial 31 finished with value: 0.747001834536837 and parameters: {'score_th': 0.002, 'distance': 90, 'hour': 5, 'window_size': 350, 'weight': 0.9}. Best is trial 22 with value: 0.7475250446254913.\n",
      "[I 2023-11-19 22:13:11,333] Trial 32 finished with value: 0.7461388749599501 and parameters: {'score_th': 0.001, 'distance': 80, 'hour': 5, 'window_size': 400, 'weight': 0.8}. Best is trial 22 with value: 0.7475250446254913.\n",
      "[I 2023-11-19 22:13:54,173] Trial 33 finished with value: 0.746182612235031 and parameters: {'score_th': 0.002, 'distance': 100, 'hour': 4, 'window_size': 300, 'weight': 0.9}. Best is trial 22 with value: 0.7475250446254913.\n",
      "[I 2023-11-19 22:14:36,228] Trial 34 finished with value: 0.7458867004229557 and parameters: {'score_th': 0.005, 'distance': 90, 'hour': 5, 'window_size': 150, 'weight': 0.8}. Best is trial 22 with value: 0.7475250446254913.\n",
      "[I 2023-11-19 22:15:18,314] Trial 35 finished with value: 0.7472283098569925 and parameters: {'score_th': 0.002, 'distance': 70, 'hour': 5, 'window_size': 500, 'weight': 0.9}. Best is trial 22 with value: 0.7475250446254913.\n",
      "[I 2023-11-19 22:16:01,580] Trial 36 finished with value: 0.7446754351988554 and parameters: {'score_th': 0.001, 'distance': 70, 'hour': 4, 'window_size': 500, 'weight': 0.7000000000000001}. Best is trial 22 with value: 0.7475250446254913.\n",
      "[I 2023-11-19 22:16:43,587] Trial 37 finished with value: 0.7449556605377914 and parameters: {'score_th': 0.004, 'distance': 70, 'hour': 4, 'window_size': 450, 'weight': 0.8}. Best is trial 22 with value: 0.7475250446254913.\n",
      "[I 2023-11-19 22:17:27,498] Trial 38 finished with value: 0.733474001349186 and parameters: {'score_th': 0.002, 'distance': 60, 'hour': 4, 'window_size': 450, 'weight': 0.30000000000000004}. Best is trial 22 with value: 0.7475250446254913.\n",
      "[I 2023-11-19 22:18:11,311] Trial 39 finished with value: 0.7474806626544663 and parameters: {'score_th': 0.001, 'distance': 80, 'hour': 5, 'window_size': 400, 'weight': 0.9}. Best is trial 22 with value: 0.7475250446254913.\n",
      "[I 2023-11-19 22:18:55,853] Trial 40 finished with value: 0.7469281864070445 and parameters: {'score_th': 0.001, 'distance': 80, 'hour': 4, 'window_size': 200, 'weight': 0.8}. Best is trial 22 with value: 0.7475250446254913.\n",
      "[I 2023-11-19 22:19:37,460] Trial 41 finished with value: 0.744833354185197 and parameters: {'score_th': 0.01, 'distance': 70, 'hour': 5, 'window_size': 400, 'weight': 0.9}. Best is trial 22 with value: 0.7475250446254913.\n",
      "[I 2023-11-19 22:20:20,848] Trial 42 finished with value: 0.7475615959156015 and parameters: {'score_th': 0.001, 'distance': 80, 'hour': 5, 'window_size': 500, 'weight': 0.9}. Best is trial 42 with value: 0.7475615959156015.\n",
      "[I 2023-11-19 22:21:03,073] Trial 43 finished with value: 0.7475640225244662 and parameters: {'score_th': 0.001, 'distance': 80, 'hour': 5, 'window_size': 450, 'weight': 0.9}. Best is trial 43 with value: 0.7475640225244662.\n",
      "[I 2023-11-19 22:21:46,260] Trial 44 finished with value: 0.7457582617099076 and parameters: {'score_th': 0.001, 'distance': 100, 'hour': 5, 'window_size': 450, 'weight': 0.8}. Best is trial 43 with value: 0.7475640225244662.\n",
      "[I 2023-11-19 22:22:28,680] Trial 45 finished with value: 0.7467955040465171 and parameters: {'score_th': 0.003, 'distance': 70, 'hour': 4, 'window_size': 500, 'weight': 0.9}. Best is trial 43 with value: 0.7475640225244662.\n",
      "[I 2023-11-19 22:23:10,351] Trial 46 finished with value: 0.7365138046536306 and parameters: {'score_th': 0.002, 'distance': 90, 'hour': 5, 'window_size': 500, 'weight': 0.4}. Best is trial 43 with value: 0.7475640225244662.\n",
      "[I 2023-11-19 22:23:51,773] Trial 47 finished with value: 0.7475640225244662 and parameters: {'score_th': 0.001, 'distance': 80, 'hour': 5, 'window_size': 450, 'weight': 0.9}. Best is trial 43 with value: 0.7475640225244662.\n",
      "[I 2023-11-19 22:24:35,257] Trial 48 finished with value: 0.744277078721852 and parameters: {'score_th': 0.001, 'distance': 70, 'hour': 5, 'window_size': 450, 'weight': 0.7000000000000001}. Best is trial 43 with value: 0.7475640225244662.\n",
      "[I 2023-11-19 22:25:18,317] Trial 49 finished with value: 0.7476289447484639 and parameters: {'score_th': 0.001, 'distance': 60, 'hour': 5, 'window_size': 450, 'weight': 0.9}. Best is trial 49 with value: 0.7476289447484639.\n",
      "[I 2023-11-19 22:26:01,705] Trial 50 finished with value: 0.7462541116396253 and parameters: {'score_th': 0.001, 'distance': 60, 'hour': 5, 'window_size': 450, 'weight': 0.8}. Best is trial 49 with value: 0.7476289447484639.\n",
      "[I 2023-11-19 22:26:44,697] Trial 51 finished with value: 0.7475615959156015 and parameters: {'score_th': 0.001, 'distance': 80, 'hour': 5, 'window_size': 500, 'weight': 0.9}. Best is trial 49 with value: 0.7476289447484639.\n",
      "[I 2023-11-19 22:27:28,078] Trial 52 finished with value: 0.7475943968981063 and parameters: {'score_th': 0.001, 'distance': 50, 'hour': 5, 'window_size': 500, 'weight': 0.9}. Best is trial 49 with value: 0.7476289447484639.\n",
      "[I 2023-11-19 22:28:11,748] Trial 53 finished with value: 0.7475943968981063 and parameters: {'score_th': 0.001, 'distance': 50, 'hour': 5, 'window_size': 500, 'weight': 0.9}. Best is trial 49 with value: 0.7476289447484639.\n",
      "[I 2023-11-19 22:28:53,548] Trial 54 finished with value: 0.7441988975113393 and parameters: {'score_th': 0.008, 'distance': 50, 'hour': 5, 'window_size': 450, 'weight': 0.8}. Best is trial 49 with value: 0.7476289447484639.\n",
      "[I 2023-11-19 22:29:37,481] Trial 55 finished with value: 0.7475943968981063 and parameters: {'score_th': 0.001, 'distance': 50, 'hour': 5, 'window_size': 500, 'weight': 0.9}. Best is trial 49 with value: 0.7476289447484639.\n",
      "[I 2023-11-19 22:30:21,203] Trial 56 finished with value: 0.7461304513458495 and parameters: {'score_th': 0.001, 'distance': 30, 'hour': 5, 'window_size': 400, 'weight': 0.8}. Best is trial 49 with value: 0.7476289447484639.\n",
      "[I 2023-11-19 22:31:03,804] Trial 57 finished with value: 0.7475943968981063 and parameters: {'score_th': 0.001, 'distance': 50, 'hour': 5, 'window_size': 500, 'weight': 0.9}. Best is trial 49 with value: 0.7476289447484639.\n",
      "[I 2023-11-19 22:31:44,707] Trial 58 finished with value: 0.7456056942127331 and parameters: {'score_th': 0.003, 'distance': 50, 'hour': 5, 'window_size': 500, 'weight': 0.8}. Best is trial 49 with value: 0.7476289447484639.\n",
      "[I 2023-11-19 22:32:26,873] Trial 59 finished with value: 0.7475943968981063 and parameters: {'score_th': 0.001, 'distance': 50, 'hour': 5, 'window_size': 500, 'weight': 0.9}. Best is trial 49 with value: 0.7476289447484639.\n",
      "[I 2023-11-19 22:33:09,475] Trial 60 finished with value: 0.7227158554820758 and parameters: {'score_th': 0.009000000000000001, 'distance': 50, 'hour': 1, 'window_size': 500, 'weight': 0.1}. Best is trial 49 with value: 0.7476289447484639.\n",
      "[I 2023-11-19 22:33:51,655] Trial 61 finished with value: 0.727622843953269 and parameters: {'score_th': 0.001, 'distance': 40, 'hour': 5, 'window_size': 500, 'weight': 0.2}. Best is trial 49 with value: 0.7476289447484639.\n",
      "[I 2023-11-19 22:34:33,151] Trial 62 finished with value: 0.7475943968981063 and parameters: {'score_th': 0.001, 'distance': 50, 'hour': 5, 'window_size': 500, 'weight': 0.9}. Best is trial 49 with value: 0.7476289447484639.\n",
      "[I 2023-11-19 22:35:14,341] Trial 63 finished with value: 0.7472269669773046 and parameters: {'score_th': 0.002, 'distance': 50, 'hour': 5, 'window_size': 500, 'weight': 0.9}. Best is trial 49 with value: 0.7476289447484639.\n",
      "[I 2023-11-19 22:35:56,209] Trial 64 finished with value: 0.7476217517831303 and parameters: {'score_th': 0.001, 'distance': 60, 'hour': 5, 'window_size': 500, 'weight': 0.9}. Best is trial 49 with value: 0.7476289447484639.\n",
      "[I 2023-11-19 22:36:37,676] Trial 65 finished with value: 0.7472511893947831 and parameters: {'score_th': 0.002, 'distance': 60, 'hour': 5, 'window_size': 500, 'weight': 0.9}. Best is trial 49 with value: 0.7476289447484639.\n",
      "[I 2023-11-19 22:37:20,037] Trial 66 finished with value: 0.7462541116396253 and parameters: {'score_th': 0.001, 'distance': 60, 'hour': 5, 'window_size': 450, 'weight': 0.8}. Best is trial 49 with value: 0.7476289447484639.\n",
      "[I 2023-11-19 22:38:01,470] Trial 67 finished with value: 0.7471715696243222 and parameters: {'score_th': 0.002, 'distance': 40, 'hour': 5, 'window_size': 500, 'weight': 0.9}. Best is trial 49 with value: 0.7476289447484639.\n",
      "[I 2023-11-19 22:38:42,900] Trial 68 finished with value: 0.744292362058824 and parameters: {'score_th': 0.002, 'distance': 50, 'hour': 5, 'window_size': 500, 'weight': 0.7000000000000001}. Best is trial 49 with value: 0.7476289447484639.\n",
      "[I 2023-11-19 22:39:25,142] Trial 69 finished with value: 0.7455510926111284 and parameters: {'score_th': 0.003, 'distance': 60, 'hour': 5, 'window_size': 450, 'weight': 0.8}. Best is trial 49 with value: 0.7476289447484639.\n",
      "[I 2023-11-19 22:40:08,288] Trial 70 finished with value: 0.7475380896423391 and parameters: {'score_th': 0.001, 'distance': 40, 'hour': 5, 'window_size': 500, 'weight': 0.9}. Best is trial 49 with value: 0.7476289447484639.\n",
      "[I 2023-11-19 22:40:50,645] Trial 71 finished with value: 0.7475943968981063 and parameters: {'score_th': 0.001, 'distance': 50, 'hour': 5, 'window_size': 500, 'weight': 0.9}. Best is trial 49 with value: 0.7476289447484639.\n",
      "[I 2023-11-19 22:41:33,452] Trial 72 finished with value: 0.7476217517831303 and parameters: {'score_th': 0.001, 'distance': 60, 'hour': 5, 'window_size': 500, 'weight': 0.9}. Best is trial 49 with value: 0.7476289447484639.\n",
      "[I 2023-11-19 22:42:14,673] Trial 73 finished with value: 0.7457399484610567 and parameters: {'score_th': 0.007, 'distance': 60, 'hour': 5, 'window_size': 450, 'weight': 0.9}. Best is trial 49 with value: 0.7476289447484639.\n",
      "[I 2023-11-19 22:42:57,252] Trial 74 finished with value: 0.7476217517831303 and parameters: {'score_th': 0.001, 'distance': 60, 'hour': 5, 'window_size': 500, 'weight': 0.9}. Best is trial 49 with value: 0.7476289447484639.\n",
      "[I 2023-11-19 22:43:40,025] Trial 75 finished with value: 0.7463008631762755 and parameters: {'score_th': 0.001, 'distance': 60, 'hour': 5, 'window_size': 500, 'weight': 0.8}. Best is trial 49 with value: 0.7476289447484639.\n",
      "[I 2023-11-19 22:44:22,169] Trial 76 finished with value: 0.7472314355414638 and parameters: {'score_th': 0.002, 'distance': 60, 'hour': 5, 'window_size': 450, 'weight': 0.9}. Best is trial 49 with value: 0.7476289447484639.\n",
      "[I 2023-11-19 22:45:04,068] Trial 77 finished with value: 0.7362358383060443 and parameters: {'score_th': 0.002, 'distance': 60, 'hour': 5, 'window_size': 500, 'weight': 0.4}. Best is trial 49 with value: 0.7476289447484639.\n",
      "[I 2023-11-19 22:45:46,003] Trial 78 finished with value: 0.7462256737474504 and parameters: {'score_th': 0.001, 'distance': 40, 'hour': 5, 'window_size': 500, 'weight': 0.8}. Best is trial 49 with value: 0.7476289447484639.\n",
      "[I 2023-11-19 22:46:29,611] Trial 79 finished with value: 0.7441780834519758 and parameters: {'score_th': 0.001, 'distance': 50, 'hour': 2, 'window_size': 450, 'weight': 0.9}. Best is trial 49 with value: 0.7476289447484639.\n",
      "[I 2023-11-19 22:47:07,750] Trial 80 finished with value: 0.7391996994288446 and parameters: {'score_th': 0.002, 'distance': 60, 'hour': 5, 'window_size': 400, 'weight': 0.5}. Best is trial 49 with value: 0.7476289447484639.\n",
      "[I 2023-11-19 22:47:50,464] Trial 81 finished with value: 0.7475943968981063 and parameters: {'score_th': 0.001, 'distance': 50, 'hour': 5, 'window_size': 500, 'weight': 0.9}. Best is trial 49 with value: 0.7476289447484639.\n",
      "[I 2023-11-19 22:48:33,042] Trial 82 finished with value: 0.7475943968981063 and parameters: {'score_th': 0.001, 'distance': 50, 'hour': 5, 'window_size': 500, 'weight': 0.9}. Best is trial 49 with value: 0.7476289447484639.\n",
      "[I 2023-11-19 22:49:16,151] Trial 83 finished with value: 0.7475943968981063 and parameters: {'score_th': 0.001, 'distance': 50, 'hour': 5, 'window_size': 500, 'weight': 0.9}. Best is trial 49 with value: 0.7476289447484639.\n",
      "[I 2023-11-19 22:49:59,244] Trial 84 finished with value: 0.7476217517831303 and parameters: {'score_th': 0.001, 'distance': 60, 'hour': 5, 'window_size': 500, 'weight': 0.9}. Best is trial 49 with value: 0.7476289447484639.\n",
      "[I 2023-11-19 22:50:41,555] Trial 85 finished with value: 0.7472126317999064 and parameters: {'score_th': 0.002, 'distance': 70, 'hour': 5, 'window_size': 450, 'weight': 0.9}. Best is trial 49 with value: 0.7476289447484639.\n",
      "[W 2023-11-19 22:50:46,413] Trial 86 failed with parameters: {'score_th': 0.001, 'distance': 30, 'hour': 5, 'window_size': 500, 'weight': 0.30000000000000004} because of the following error: KeyboardInterrupt().\n",
      "Traceback (most recent call last):\n",
      "  File \"/home/kuto/kaggle/kaggle-sleep-v2/.venv/lib/python3.10/site-packages/optuna/study/_optimize.py\", line 200, in _run_trial\n",
      "    value_or_values = func(trial)\n",
      "  File \"/tmp/ipykernel_2969867/1009138421.py\", line 8, in objective\n",
      "    pred_df: pl.DataFrame = post_process_for_asleep_and_event(\n",
      "  File \"/home/kuto/kaggle/kaggle-sleep-v2/src/utils/post_process.py\", line 160, in post_process_for_asleep_and_event\n",
      "    preds[:, :, 1] = min_max_normalize(preds[:, :, 1])\n",
      "KeyboardInterrupt\n",
      "[W 2023-11-19 22:50:46,414] Trial 86 failed with value None.\n"
     ]
    },
    {
     "ename": "KeyboardInterrupt",
     "evalue": "",
     "output_type": "error",
     "traceback": [
      "\u001b[0;31m---------------------------------------------------------------------------\u001b[0m",
      "\u001b[0;31mKeyboardInterrupt\u001b[0m                         Traceback (most recent call last)",
      "\u001b[1;32m/home/kuto/kaggle/kaggle-sleep-v2/notebook/evaluate.ipynb Cell 10\u001b[0m line \u001b[0;36m1\n\u001b[1;32m     <a href='vscode-notebook-cell://ssh-remote%2Bkubuntu/home/kuto/kaggle/kaggle-sleep-v2/notebook/evaluate.ipynb#X20sdnNjb2RlLXJlbW90ZQ%3D%3D?line=12'>13</a>\u001b[0m     \u001b[39mreturn\u001b[39;00m score\n\u001b[1;32m     <a href='vscode-notebook-cell://ssh-remote%2Bkubuntu/home/kuto/kaggle/kaggle-sleep-v2/notebook/evaluate.ipynb#X20sdnNjb2RlLXJlbW90ZQ%3D%3D?line=15'>16</a>\u001b[0m study \u001b[39m=\u001b[39m optuna\u001b[39m.\u001b[39mcreate_study(direction\u001b[39m=\u001b[39m\u001b[39m\"\u001b[39m\u001b[39mmaximize\u001b[39m\u001b[39m\"\u001b[39m)\n\u001b[0;32m---> <a href='vscode-notebook-cell://ssh-remote%2Bkubuntu/home/kuto/kaggle/kaggle-sleep-v2/notebook/evaluate.ipynb#X20sdnNjb2RlLXJlbW90ZQ%3D%3D?line=16'>17</a>\u001b[0m study\u001b[39m.\u001b[39;49moptimize(objective, n_trials\u001b[39m=\u001b[39;49m\u001b[39m100\u001b[39;49m)\n\u001b[1;32m     <a href='vscode-notebook-cell://ssh-remote%2Bkubuntu/home/kuto/kaggle/kaggle-sleep-v2/notebook/evaluate.ipynb#X20sdnNjb2RlLXJlbW90ZQ%3D%3D?line=18'>19</a>\u001b[0m \u001b[39mprint\u001b[39m(study\u001b[39m.\u001b[39mbest_params)\n",
      "File \u001b[0;32m~/kaggle/kaggle-sleep-v2/.venv/lib/python3.10/site-packages/optuna/study/study.py:451\u001b[0m, in \u001b[0;36mStudy.optimize\u001b[0;34m(self, func, n_trials, timeout, n_jobs, catch, callbacks, gc_after_trial, show_progress_bar)\u001b[0m\n\u001b[1;32m    348\u001b[0m \u001b[39mdef\u001b[39;00m \u001b[39moptimize\u001b[39m(\n\u001b[1;32m    349\u001b[0m     \u001b[39mself\u001b[39m,\n\u001b[1;32m    350\u001b[0m     func: ObjectiveFuncType,\n\u001b[0;32m   (...)\u001b[0m\n\u001b[1;32m    357\u001b[0m     show_progress_bar: \u001b[39mbool\u001b[39m \u001b[39m=\u001b[39m \u001b[39mFalse\u001b[39;00m,\n\u001b[1;32m    358\u001b[0m ) \u001b[39m-\u001b[39m\u001b[39m>\u001b[39m \u001b[39mNone\u001b[39;00m:\n\u001b[1;32m    359\u001b[0m \u001b[39m    \u001b[39m\u001b[39m\"\"\"Optimize an objective function.\u001b[39;00m\n\u001b[1;32m    360\u001b[0m \n\u001b[1;32m    361\u001b[0m \u001b[39m    Optimization is done by choosing a suitable set of hyperparameter values from a given\u001b[39;00m\n\u001b[0;32m   (...)\u001b[0m\n\u001b[1;32m    449\u001b[0m \u001b[39m            If nested invocation of this method occurs.\u001b[39;00m\n\u001b[1;32m    450\u001b[0m \u001b[39m    \"\"\"\u001b[39;00m\n\u001b[0;32m--> 451\u001b[0m     _optimize(\n\u001b[1;32m    452\u001b[0m         study\u001b[39m=\u001b[39;49m\u001b[39mself\u001b[39;49m,\n\u001b[1;32m    453\u001b[0m         func\u001b[39m=\u001b[39;49mfunc,\n\u001b[1;32m    454\u001b[0m         n_trials\u001b[39m=\u001b[39;49mn_trials,\n\u001b[1;32m    455\u001b[0m         timeout\u001b[39m=\u001b[39;49mtimeout,\n\u001b[1;32m    456\u001b[0m         n_jobs\u001b[39m=\u001b[39;49mn_jobs,\n\u001b[1;32m    457\u001b[0m         catch\u001b[39m=\u001b[39;49m\u001b[39mtuple\u001b[39;49m(catch) \u001b[39mif\u001b[39;49;00m \u001b[39misinstance\u001b[39;49m(catch, Iterable) \u001b[39melse\u001b[39;49;00m (catch,),\n\u001b[1;32m    458\u001b[0m         callbacks\u001b[39m=\u001b[39;49mcallbacks,\n\u001b[1;32m    459\u001b[0m         gc_after_trial\u001b[39m=\u001b[39;49mgc_after_trial,\n\u001b[1;32m    460\u001b[0m         show_progress_bar\u001b[39m=\u001b[39;49mshow_progress_bar,\n\u001b[1;32m    461\u001b[0m     )\n",
      "File \u001b[0;32m~/kaggle/kaggle-sleep-v2/.venv/lib/python3.10/site-packages/optuna/study/_optimize.py:66\u001b[0m, in \u001b[0;36m_optimize\u001b[0;34m(study, func, n_trials, timeout, n_jobs, catch, callbacks, gc_after_trial, show_progress_bar)\u001b[0m\n\u001b[1;32m     64\u001b[0m \u001b[39mtry\u001b[39;00m:\n\u001b[1;32m     65\u001b[0m     \u001b[39mif\u001b[39;00m n_jobs \u001b[39m==\u001b[39m \u001b[39m1\u001b[39m:\n\u001b[0;32m---> 66\u001b[0m         _optimize_sequential(\n\u001b[1;32m     67\u001b[0m             study,\n\u001b[1;32m     68\u001b[0m             func,\n\u001b[1;32m     69\u001b[0m             n_trials,\n\u001b[1;32m     70\u001b[0m             timeout,\n\u001b[1;32m     71\u001b[0m             catch,\n\u001b[1;32m     72\u001b[0m             callbacks,\n\u001b[1;32m     73\u001b[0m             gc_after_trial,\n\u001b[1;32m     74\u001b[0m             reseed_sampler_rng\u001b[39m=\u001b[39;49m\u001b[39mFalse\u001b[39;49;00m,\n\u001b[1;32m     75\u001b[0m             time_start\u001b[39m=\u001b[39;49m\u001b[39mNone\u001b[39;49;00m,\n\u001b[1;32m     76\u001b[0m             progress_bar\u001b[39m=\u001b[39;49mprogress_bar,\n\u001b[1;32m     77\u001b[0m         )\n\u001b[1;32m     78\u001b[0m     \u001b[39melse\u001b[39;00m:\n\u001b[1;32m     79\u001b[0m         \u001b[39mif\u001b[39;00m n_jobs \u001b[39m==\u001b[39m \u001b[39m-\u001b[39m\u001b[39m1\u001b[39m:\n",
      "File \u001b[0;32m~/kaggle/kaggle-sleep-v2/.venv/lib/python3.10/site-packages/optuna/study/_optimize.py:163\u001b[0m, in \u001b[0;36m_optimize_sequential\u001b[0;34m(study, func, n_trials, timeout, catch, callbacks, gc_after_trial, reseed_sampler_rng, time_start, progress_bar)\u001b[0m\n\u001b[1;32m    160\u001b[0m         \u001b[39mbreak\u001b[39;00m\n\u001b[1;32m    162\u001b[0m \u001b[39mtry\u001b[39;00m:\n\u001b[0;32m--> 163\u001b[0m     frozen_trial \u001b[39m=\u001b[39m _run_trial(study, func, catch)\n\u001b[1;32m    164\u001b[0m \u001b[39mfinally\u001b[39;00m:\n\u001b[1;32m    165\u001b[0m     \u001b[39m# The following line mitigates memory problems that can be occurred in some\u001b[39;00m\n\u001b[1;32m    166\u001b[0m     \u001b[39m# environments (e.g., services that use computing containers such as GitHub Actions).\u001b[39;00m\n\u001b[1;32m    167\u001b[0m     \u001b[39m# Please refer to the following PR for further details:\u001b[39;00m\n\u001b[1;32m    168\u001b[0m     \u001b[39m# https://github.com/optuna/optuna/pull/325.\u001b[39;00m\n\u001b[1;32m    169\u001b[0m     \u001b[39mif\u001b[39;00m gc_after_trial:\n",
      "File \u001b[0;32m~/kaggle/kaggle-sleep-v2/.venv/lib/python3.10/site-packages/optuna/study/_optimize.py:251\u001b[0m, in \u001b[0;36m_run_trial\u001b[0;34m(study, func, catch)\u001b[0m\n\u001b[1;32m    244\u001b[0m         \u001b[39massert\u001b[39;00m \u001b[39mFalse\u001b[39;00m, \u001b[39m\"\u001b[39m\u001b[39mShould not reach.\u001b[39m\u001b[39m\"\u001b[39m\n\u001b[1;32m    246\u001b[0m \u001b[39mif\u001b[39;00m (\n\u001b[1;32m    247\u001b[0m     frozen_trial\u001b[39m.\u001b[39mstate \u001b[39m==\u001b[39m TrialState\u001b[39m.\u001b[39mFAIL\n\u001b[1;32m    248\u001b[0m     \u001b[39mand\u001b[39;00m func_err \u001b[39mis\u001b[39;00m \u001b[39mnot\u001b[39;00m \u001b[39mNone\u001b[39;00m\n\u001b[1;32m    249\u001b[0m     \u001b[39mand\u001b[39;00m \u001b[39mnot\u001b[39;00m \u001b[39misinstance\u001b[39m(func_err, catch)\n\u001b[1;32m    250\u001b[0m ):\n\u001b[0;32m--> 251\u001b[0m     \u001b[39mraise\u001b[39;00m func_err\n\u001b[1;32m    252\u001b[0m \u001b[39mreturn\u001b[39;00m frozen_trial\n",
      "File \u001b[0;32m~/kaggle/kaggle-sleep-v2/.venv/lib/python3.10/site-packages/optuna/study/_optimize.py:200\u001b[0m, in \u001b[0;36m_run_trial\u001b[0;34m(study, func, catch)\u001b[0m\n\u001b[1;32m    198\u001b[0m \u001b[39mwith\u001b[39;00m get_heartbeat_thread(trial\u001b[39m.\u001b[39m_trial_id, study\u001b[39m.\u001b[39m_storage):\n\u001b[1;32m    199\u001b[0m     \u001b[39mtry\u001b[39;00m:\n\u001b[0;32m--> 200\u001b[0m         value_or_values \u001b[39m=\u001b[39m func(trial)\n\u001b[1;32m    201\u001b[0m     \u001b[39mexcept\u001b[39;00m exceptions\u001b[39m.\u001b[39mTrialPruned \u001b[39mas\u001b[39;00m e:\n\u001b[1;32m    202\u001b[0m         \u001b[39m# TODO(mamu): Handle multi-objective cases.\u001b[39;00m\n\u001b[1;32m    203\u001b[0m         state \u001b[39m=\u001b[39m TrialState\u001b[39m.\u001b[39mPRUNED\n",
      "\u001b[1;32m/home/kuto/kaggle/kaggle-sleep-v2/notebook/evaluate.ipynb Cell 10\u001b[0m line \u001b[0;36m8\n\u001b[1;32m      <a href='vscode-notebook-cell://ssh-remote%2Bkubuntu/home/kuto/kaggle/kaggle-sleep-v2/notebook/evaluate.ipynb#X20sdnNjb2RlLXJlbW90ZQ%3D%3D?line=5'>6</a>\u001b[0m weight \u001b[39m=\u001b[39m trial\u001b[39m.\u001b[39msuggest_float(\u001b[39m\"\u001b[39m\u001b[39mweight\u001b[39m\u001b[39m\"\u001b[39m, \u001b[39m0.1\u001b[39m, \u001b[39m0.9\u001b[39m, step\u001b[39m=\u001b[39m\u001b[39m0.1\u001b[39m)\n\u001b[1;32m      <a href='vscode-notebook-cell://ssh-remote%2Bkubuntu/home/kuto/kaggle/kaggle-sleep-v2/notebook/evaluate.ipynb#X20sdnNjb2RlLXJlbW90ZQ%3D%3D?line=6'>7</a>\u001b[0m weights \u001b[39m=\u001b[39m [weight, \u001b[39m1\u001b[39m \u001b[39m-\u001b[39m weight]\n\u001b[0;32m----> <a href='vscode-notebook-cell://ssh-remote%2Bkubuntu/home/kuto/kaggle/kaggle-sleep-v2/notebook/evaluate.ipynb#X20sdnNjb2RlLXJlbW90ZQ%3D%3D?line=7'>8</a>\u001b[0m pred_df: pl\u001b[39m.\u001b[39mDataFrame \u001b[39m=\u001b[39m post_process_for_asleep_and_event(\n\u001b[1;32m      <a href='vscode-notebook-cell://ssh-remote%2Bkubuntu/home/kuto/kaggle/kaggle-sleep-v2/notebook/evaluate.ipynb#X20sdnNjb2RlLXJlbW90ZQ%3D%3D?line=8'>9</a>\u001b[0m     all_keys, all_preds, score_th\u001b[39m=\u001b[39;49mscore_th, distance\u001b[39m=\u001b[39;49mdistance, window_size\u001b[39m=\u001b[39;49mwindow_size, low_pass_filter_hour\u001b[39m=\u001b[39;49mhour, weights\u001b[39m=\u001b[39;49mweights\n\u001b[1;32m     <a href='vscode-notebook-cell://ssh-remote%2Bkubuntu/home/kuto/kaggle/kaggle-sleep-v2/notebook/evaluate.ipynb#X20sdnNjb2RlLXJlbW90ZQ%3D%3D?line=9'>10</a>\u001b[0m )\n\u001b[1;32m     <a href='vscode-notebook-cell://ssh-remote%2Bkubuntu/home/kuto/kaggle/kaggle-sleep-v2/notebook/evaluate.ipynb#X20sdnNjb2RlLXJlbW90ZQ%3D%3D?line=10'>11</a>\u001b[0m score \u001b[39m=\u001b[39m event_detection_ap(gt_df, pred_df\u001b[39m.\u001b[39mto_pandas())\n\u001b[1;32m     <a href='vscode-notebook-cell://ssh-remote%2Bkubuntu/home/kuto/kaggle/kaggle-sleep-v2/notebook/evaluate.ipynb#X20sdnNjb2RlLXJlbW90ZQ%3D%3D?line=12'>13</a>\u001b[0m \u001b[39mreturn\u001b[39;00m score\n",
      "File \u001b[0;32m~/kaggle/kaggle-sleep-v2/src/utils/post_process.py:160\u001b[0m, in \u001b[0;36mpost_process_for_asleep_and_event\u001b[0;34m(keys, preds, score_th, distance, window_size, low_pass_filter_hour, weights)\u001b[0m\n\u001b[1;32m    158\u001b[0m \u001b[39m# 正規化\u001b[39;00m\n\u001b[1;32m    159\u001b[0m preds[:, :, \u001b[39m0\u001b[39m] \u001b[39m=\u001b[39m min_max_normalize(preds[:, :, \u001b[39m0\u001b[39m])\n\u001b[0;32m--> 160\u001b[0m preds[:, :, \u001b[39m1\u001b[39m] \u001b[39m=\u001b[39m min_max_normalize(preds[:, :, \u001b[39m1\u001b[39;49m])\n\u001b[1;32m    161\u001b[0m preds[:, :, \u001b[39m2\u001b[39m] \u001b[39m=\u001b[39m min_max_normalize(preds[:, :, \u001b[39m2\u001b[39m])\n\u001b[1;32m    162\u001b[0m records \u001b[39m=\u001b[39m []\n",
      "\u001b[0;31mKeyboardInterrupt\u001b[0m: "
     ]
    }
   ],
   "source": [
    "def objective(trial: optuna.Trial):\n",
    "    score_th = trial.suggest_float(\"score_th\", 0.001, 0.01, step=0.001)  # 0.005\n",
    "    # distance = trial.suggest_int(\"distance\", 10, 100, step=10)\n",
    "    hour = trial.suggest_int(\"hour\", 1, 5)\n",
    "    # window_size = trial.suggest_int(\"window_size\", 100, 500, step=50)\n",
    "    # weight = trial.suggest_float(\"weight\", 0.1, 0.9, step=0.1)\n",
    "   #  weights = [weight, 1 - weight]\n",
    "    pred_df: pl.DataFrame = post_process_for_asleep_and_event(\n",
    "        all_keys,\n",
    "        all_preds,\n",
    "        score_th=score_th,\n",
    "        distance=40,\n",
    "        window_size=500,\n",
    "        low_pass_filter_hour=hour,\n",
    "        event_weight=0.7,\n",
    "    )\n",
    "    score = event_detection_ap(gt_df, pred_df.to_pandas())\n",
    "\n",
    "    return score\n",
    "\n",
    "\n",
    "study = optuna.create_study(direction=\"maximize\")\n",
    "study.optimize(objective, n_trials=100)\n",
    "\n",
    "print(study.best_params)"
   ]
  },
  {
   "cell_type": "code",
   "execution_count": 68,
   "metadata": {},
   "outputs": [
    {
     "name": "stdout",
     "output_type": "stream",
     "text": [
      "{'score_th': 0.001, 'distance': 60, 'hour': 5, 'window_size': 450, 'weight': 0.9}\n"
     ]
    }
   ],
   "source": [
    "print(study.best_params)"
   ]
  },
  {
   "cell_type": "markdown",
   "metadata": {},
   "source": [
    "{'score_th': 0.001, 'distance': 60, 'hour': 5, 'window_size': 500, 'weight': 0.9}. Best is trial 49 with value: 0.7476289447484639."
   ]
  },
  {
   "cell_type": "code",
   "execution_count": null,
   "metadata": {},
   "outputs": [],
   "source": []
  }
 ],
 "metadata": {
  "kernelspec": {
   "display_name": ".venv",
   "language": "python",
   "name": "python3"
  },
  "language_info": {
   "codemirror_mode": {
    "name": "ipython",
    "version": 3
   },
   "file_extension": ".py",
   "mimetype": "text/x-python",
   "name": "python",
   "nbconvert_exporter": "python",
   "pygments_lexer": "ipython3",
   "version": "3.10.11"
  },
  "orig_nbformat": 4
 },
 "nbformat": 4,
 "nbformat_minor": 2
}
