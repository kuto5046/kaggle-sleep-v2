{
 "cells": [
  {
   "cell_type": "code",
   "execution_count": 1,
   "metadata": {},
   "outputs": [
    {
     "name": "stdout",
     "output_type": "stream",
     "text": [
      " elapsed time: 25 min"
     ]
    }
   ],
   "source": [
    "# ref https://zenn.dev/currypurin/scraps/47d5f84a0ca89d\n",
    "import datetime\n",
    "import time\n",
    "from datetime import timezone\n",
    "\n",
    "from kaggle.api.kaggle_api_extended import KaggleApi\n",
    "\n",
    "api = KaggleApi()\n",
    "api.authenticate()\n",
    "\n",
    "COMPETITION =  'child-mind-institute-detect-sleep-states'\n",
    "result_ = api.competition_submissions(COMPETITION)[0]\n",
    "latest_ref = str(result_)  # 最新のサブミット番号\n",
    "submit_time = result_.date\n",
    "\n",
    "status = ''\n",
    "\n",
    "while status != 'complete':\n",
    "    list_of_submission = api.competition_submissions(COMPETITION)\n",
    "    for result in list_of_submission:\n",
    "        if str(result.ref) == latest_ref:\n",
    "            break\n",
    "    status = result.status\n",
    "\n",
    "    now = datetime.datetime.now(timezone.utc).replace(tzinfo=None)\n",
    "    elapsed_time = int((now - submit_time).seconds / 60) + 1\n",
    "    if status == 'complete':\n",
    "        print('\\r', f'run-time: {elapsed_time} min, LB: {result.publicScore}')\n",
    "    else:\n",
    "        print('\\r', f'elapsed time: {elapsed_time} min', end='')\n",
    "        time.sleep(60)"
   ]
  },
  {
   "cell_type": "code",
   "execution_count": null,
   "metadata": {},
   "outputs": [],
   "source": []
  }
 ],
 "metadata": {
  "kernelspec": {
   "display_name": ".venv",
   "language": "python",
   "name": "python3"
  },
  "language_info": {
   "codemirror_mode": {
    "name": "ipython",
    "version": 3
   },
   "file_extension": ".py",
   "mimetype": "text/x-python",
   "name": "python",
   "nbconvert_exporter": "python",
   "pygments_lexer": "ipython3",
   "version": "3.10.11"
  }
 },
 "nbformat": 4,
 "nbformat_minor": 2
}
